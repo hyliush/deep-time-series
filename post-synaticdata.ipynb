{
 "cells": [
  {
   "cell_type": "code",
   "execution_count": 1,
   "id": "1fdf549a-3f0e-4f70-91f5-3d6b10bf12d6",
   "metadata": {},
   "outputs": [],
   "source": [
    "from IPython.core.interactiveshell import InteractiveShell as IS\n",
    "IS.ast_node_interactivity = \"all\"\n",
    "import sys\n",
    "from utils.tools import load_obj, save_obj\n",
    "import pandas as pd\n",
    "import numpy as np\n",
    "import matplotlib.pyplot as plt\n",
    "from sklearn.ensemble import IsolationForest\n",
    "from sklearn.metrics import mean_squared_error, r2_score\n",
    "from tqdm.notebook import tqdm\n",
    "import os"
   ]
  },
  {
   "cell_type": "code",
   "execution_count": 2,
   "id": "e7c3d324-82a6-45f5-855b-5c6915019e12",
   "metadata": {},
   "outputs": [],
   "source": [
    "def MAPE(pred, true):\n",
    "    return np.mean(np.abs((pred - true) / true))\n",
    "def cal_metrics(true, pred):\n",
    "    rmse = np.sqrt(mean_squared_error(true, pred))\n",
    "    r2 = r2_score(true, pred)\n",
    "    mape = MAPE(pred, true)\n",
    "    return {\"rmse\":rmse, \"r2\":r2, \"mape\":mape}"
   ]
  },
  {
   "cell_type": "markdown",
   "id": "1a20127c-b730-4f4c-8a96-31e05ebbf3c0",
   "metadata": {},
   "source": [
    "## nonformer-ewt 预测"
   ]
  },
  {
   "cell_type": "code",
   "execution_count": 3,
   "id": "8d4ee870-c801-43b6-8a9c-8488e23c4c8b",
   "metadata": {},
   "outputs": [],
   "source": [
    "N = 3\n",
    "dataset = \"toy_random_increase\"\n",
    "TARGET = \"series\""
   ]
  },
  {
   "cell_type": "code",
   "execution_count": 4,
   "id": "7650633e-fcdc-4a70-a838-a2652d57229a",
   "metadata": {},
   "outputs": [],
   "source": [
    "S_nonformer_metrics_dict = {}\n",
    "MS_nonformer_metrics_dict = {}\n",
    "seq_len, pred_len = 50, 1\n",
    "# total_len = len(df)\n",
    "HORIZON = 10\n",
    "\n",
    "nonformerNameDict = dict(zip([\"lstm\", \"tpa\", \"tcn\", \"trans\"], \n",
    "                         [\"LSTM\", \"TPA\", \"TCN\", \"LogTrans\"]))\n",
    "\n",
    "tmp_nonformerNameDict = {}\n",
    "tmp_nonformerNameDict.update(**nonformerNameDict)\n",
    "tmp_nonformerNameDict.update(**dict(zip([\"tpadecompose\", \"lstmdecompose\", \"tcndecompose\", \"transdecompose\"],\n",
    "                                       [\"TPA-De\", \"LSTM-De\", \"TCN-De\", \"LogTrans-De\"])))"
   ]
  },
  {
   "cell_type": "code",
   "execution_count": 5,
   "id": "7ccc4b25-6c15-4cfc-81c4-4f1fa338eda6",
   "metadata": {},
   "outputs": [],
   "source": [
    "for model_name in tmp_nonformerNameDict.keys():\n",
    "    # 不同horizon下的分量预测结果\n",
    "    ewt_metrics = {}\n",
    "    trues_test_lst, preds_test_lst = [], []\n",
    "    for hn in range(1, HORIZON+1):\n",
    "        # 加载不同horizon下的各分量预测结果\n",
    "        true_, pred_ = load_obj(f\"./results/{dataset}/{model_name}_{dataset}_ftS_sl{seq_len}_ll0_pl{pred_len}_is1_os1_hn{hn}_bs32_lr0.001_{dataset}_0/true_pred.pkl\")\n",
    "\n",
    "        trues_test_lst.append(true_)\n",
    "        preds_test_lst.append(pred_)\n",
    "        ewt_metrics[f\"horizon{hn}\"] = cal_metrics(true_.flatten(), pred_.flatten())\n",
    "        \n",
    "    trues_test_all, preds_test_all = np.concatenate(trues_test_lst), np.concatenate(preds_test_lst)\n",
    "    ewt_metrics[\"avghorizon\"] = cal_metrics(trues_test_all.flatten(), preds_test_all.flatten())\n",
    "    S_nonformer_metrics_dict[f\"{tmp_nonformerNameDict.get(model_name)}\"] = pd.DataFrame(ewt_metrics).T"
   ]
  },
  {
   "cell_type": "code",
   "execution_count": 6,
   "id": "ea295945-a215-4ebd-9a47-d575babb255c",
   "metadata": {},
   "outputs": [],
   "source": [
    "# for model_name in tmp_nonformerNameDict.keys():\n",
    "#     # 不同horizon下的分量预测结果\n",
    "#     ewt_metrics = {}\n",
    "#     trues_test_lst, preds_test_lst = [], []\n",
    "#     for hn in range(1, HORIZON+1):\n",
    "#         # 加载不同horizon下的各分量预测结果\n",
    "#         true_, pred_ = load_obj(f\"./results/{dataset}/{model_name}_{dataset}_ftMS_sl{seq_len}_ll0_pl{pred_len}_is4_os1_hn{hn}_bs32_lr0.001_{TARGET}multi.csv_0/true_pred.pkl\")\n",
    "#         trues_test_lst.append(true_)\n",
    "#         preds_test_lst.append(pred_)\n",
    "#         ewt_metrics[f\"horizon{hn}\"] = cal_metrics(true_.flatten(), pred_.flatten())\n",
    "        \n",
    "#     trues_test_all, preds_test_all = np.concatenate(trues_test_lst), np.concatenate(preds_test_lst)\n",
    "#     ewt_metrics[\"avghorizon\"] = cal_metrics(trues_test_all.flatten(), preds_test_all.flatten())\n",
    "#     MS_nonformer_metrics_dict[f\"{tmp_nonformerNameDict.get(model_name)}\"] = pd.DataFrame(ewt_metrics).T"
   ]
  },
  {
   "cell_type": "markdown",
   "id": "a30678b0-809f-45f1-8de6-fe0ab5af3acf",
   "metadata": {},
   "source": [
    "## AR"
   ]
  },
  {
   "cell_type": "code",
   "execution_count": 7,
   "id": "25a9ac67-41e3-4e11-83c8-e020cfbcbada",
   "metadata": {},
   "outputs": [
    {
     "name": "stderr",
     "output_type": "stream",
     "text": [
      "E:\\ANACONDA\\Lib\\site-packages\\statsmodels\\tools\\_testing.py:19: FutureWarning: pandas.util.testing is deprecated. Use the functions in the public API at pandas.testing instead.\n",
      "  import pandas.util.testing as tm\n"
     ]
    }
   ],
   "source": [
    "import statsmodels.api as sm\n",
    "from statsmodels.tsa.arima_model import ARMA,ARIMA\n",
    "from sklearn.preprocessing import StandardScaler\n",
    "import warnings\n",
    "warnings.filterwarnings('ignore', 'statsmodels.tsa.arima_model.ARMA',\n",
    "                        FutureWarning)\n",
    "warnings.filterwarnings('ignore', 'statsmodels.tsa.arima_model.ARIMA',\n",
    "                        FutureWarning)"
   ]
  },
  {
   "cell_type": "code",
   "execution_count": 8,
   "id": "7a8401fe-b1d2-487f-8ab4-8fe88a4e3f22",
   "metadata": {},
   "outputs": [],
   "source": [
    "def get_result(val_data, test_data, rolling=True, pred_len=20, seq_len=200):\n",
    "    history = [x for x in val_data[-seq_len:, 0]]\n",
    "\n",
    "    preds_lst = list()\n",
    "    trues_lst = list()\n",
    "    initial = True\n",
    "    for t in tqdm(range(len(test_data[:, 0])-pred_len)):\n",
    "        history = history[-seq_len:]\n",
    "        if initial:\n",
    "            model = ARMA(history, order=(5, 0, 0))\n",
    "            try:\n",
    "                model_fit = model.fit()\n",
    "            except:\n",
    "                model_fit = model.fit(start_params=model_fit.params)\n",
    "                \n",
    "            # 仅估计一次模型，否则，滚动预测，迭代feed数据，重新估计模型\n",
    "            if not rolling:\n",
    "                initial = False\n",
    "            \n",
    "        output = model_fit.forecast(pred_len)\n",
    "        yhat = output[0]\n",
    "        preds_lst.append(yhat)\n",
    "        obs = test_data[:, 0][t]\n",
    "        history.append(obs)\n",
    "        trues_lst.append(test_data[:, 0][t:t+pred_len])\n",
    "    return preds_lst, trues_lst"
   ]
  },
  {
   "cell_type": "code",
   "execution_count": 9,
   "id": "d054fe4b-2b55-4ff8-9422-9b770abdb04b",
   "metadata": {},
   "outputs": [],
   "source": [
    "# val_size = int(len(df)*0.1)\n",
    "# test_size = int(len(df)*0.2)\n",
    "# ar_data = df[cols].values\n",
    "# train_data, val_data, test_data \\\n",
    "#     = ar_data[:(len(df)-test_size-val_size)], ar_data[(len(df)-test_size-val_size):(len(df)-test_size)], ar_data[-test_size:]"
   ]
  },
  {
   "cell_type": "code",
   "execution_count": 10,
   "id": "37170254-4f4b-4f2d-94ca-e2347d4b7f05",
   "metadata": {},
   "outputs": [],
   "source": [
    "# arma_model=ARMA(train_data[:, 0], order=(5, 0, 0))\n",
    "# arma_result=arma_model.fit()\n",
    "# arma_result.summary()"
   ]
  },
  {
   "cell_type": "code",
   "execution_count": 11,
   "id": "8740a37d-7a26-49d3-a0e1-e582c5cd8975",
   "metadata": {
    "tags": []
   },
   "outputs": [],
   "source": [
    "# preds_lst, trues_lst = get_result(val_data, test_data, rolling=True)"
   ]
  },
  {
   "cell_type": "code",
   "execution_count": 12,
   "id": "ad854037-a11f-4cf6-b9d1-4c2c2cee29f4",
   "metadata": {},
   "outputs": [],
   "source": [
    "# ar_preds = np.stack(preds_lst, axis=0)\n",
    "# ar_trues = np.stack(trues_lst, axis=0)\n",
    "\n",
    "# ar_metrics = {}\n",
    "# for horizon in range(1, HORIZON+1):\n",
    "#     ar_metrics[f\"horizon{horizon}\"] = cal_metrics(ar_trues[:, horizon-1], ar_preds[:, horizon-1])\n",
    "# ar_metrics[\"avghorizon\"] = cal_metrics(ar_trues.flatten(), ar_preds.flatten())\n",
    "# metrics_dict[\"arima_rolling\"] = pd.DataFrame(ar_metrics).T"
   ]
  },
  {
   "cell_type": "code",
   "execution_count": 13,
   "id": "4765ee30-c490-44d4-b9d3-427a3e1aa58b",
   "metadata": {},
   "outputs": [],
   "source": [
    "# metrics_dict[\"arima_rolling\"]"
   ]
  },
  {
   "cell_type": "markdown",
   "id": "a4d00d1f-a530-4a8a-8fca-4662f8e91f58",
   "metadata": {},
   "source": [
    "## arima static"
   ]
  },
  {
   "cell_type": "code",
   "execution_count": 14,
   "id": "d3708258-ee28-4620-8220-acb2c443e3ab",
   "metadata": {
    "tags": []
   },
   "outputs": [],
   "source": [
    "# preds_lst, trues_lst = get_result(val_data, test_data, rolling=False)"
   ]
  },
  {
   "cell_type": "code",
   "execution_count": 15,
   "id": "0f1089f9-dc48-40ea-84b7-bbef3a5f396d",
   "metadata": {},
   "outputs": [],
   "source": [
    "# ar_preds = np.stack(preds_lst, axis=0)\n",
    "# ar_trues = np.stack(trues_lst, axis=0)\n",
    "\n",
    "# ar_metrics = {}\n",
    "# for horizon in range(1, HORIZON+1):\n",
    "#     ar_metrics[f\"horizon{horizon}\"] = cal_metrics(ar_trues[:, horizon-1], ar_preds[:, horizon-1])\n",
    "# ar_metrics[\"avghorizon\"] = cal_metrics(ar_trues.flatten(), ar_preds.flatten())\n",
    "# metrics_dict[\"arima_static\"] = pd.DataFrame(ar_metrics).T"
   ]
  },
  {
   "cell_type": "code",
   "execution_count": 16,
   "id": "83a9eb51-4433-42a0-ae05-29bdf38e9873",
   "metadata": {},
   "outputs": [],
   "source": [
    "# metrics_dict[\"arima_static\"]"
   ]
  },
  {
   "cell_type": "markdown",
   "id": "b944715c-d758-40ca-8ed8-c9f030a36c2f",
   "metadata": {},
   "source": [
    "## 模型评估"
   ]
  },
  {
   "cell_type": "code",
   "execution_count": 17,
   "id": "86c95064-e682-4b28-a687-c06da9e85b77",
   "metadata": {},
   "outputs": [],
   "source": [
    "def evaluation_show(metrics_dict, prefix, taget_indictor, target_horizon, sort=True, rotation=0):\n",
    "    hist_dict = {}\n",
    "    for key, value in metrics_dict.items():\n",
    "        hist_dict[key] = value[taget_indictor][target_horizon]\n",
    "    if sort:\n",
    "        hist_dict = dict(sorted(hist_dict.items(), key=lambda x:x[1]))\n",
    "    fig = plt.figure(figsize=(10, 6))\n",
    "    x, width = 0, 0.25\n",
    "    xtick_lst = []\n",
    "    xlabel_lst = []\n",
    "    for key, value in hist_dict.items():\n",
    "        xtick_lst.append(x)\n",
    "        xlabel_lst.append(key)\n",
    "        plt.bar(x, value, width=width, label=key)\n",
    "        x += width\n",
    "    plt.xticks(xtick_lst, xlabel_lst, rotation=rotation)\n",
    "    plt.title(f\"{prefix}_{taget_indictor}_{target_horizon}\")\n",
    "    plt.legend(bbox_to_anchor=(1, 1));\n",
    "    return fig, hist_dict"
   ]
  },
  {
   "cell_type": "code",
   "execution_count": 18,
   "id": "282367fd-0c17-4b9a-98af-951791c67416",
   "metadata": {},
   "outputs": [],
   "source": [
    "from pylab import mpl\n",
    "import pylab\n",
    "myparams = {\n",
    "   'axes.labelsize': '15',\n",
    "   'xtick.labelsize': '15',\n",
    "    'lines.markersize' : 4.5,\n",
    "   'ytick.labelsize': '15',\n",
    "   'lines.linewidth': 2,\n",
    "   'legend.fontsize': '15',\n",
    "    'axes.titlesize': 15,\n",
    "   'font.family': 'Times New Roman',\n",
    "      'figure.figsize': '7,7',  #图片尺寸\n",
    "    'mathtext.fontset':'stix',\n",
    "    'axes.linewidth':1,\n",
    "    'figure.dpi':300,\n",
    "}\n",
    "pylab.rcParams.update(myparams)  #更新自己的设置"
   ]
  },
  {
   "cell_type": "code",
   "execution_count": 19,
   "id": "be454e58-1ad9-46fd-ac61-d53113699e63",
   "metadata": {},
   "outputs": [],
   "source": [
    "features = \"S\"\n",
    "modelNameDict = nonformerNameDict\n",
    "MS_nonformer_metrics_dict = {}\n",
    "if features == \"MS\":\n",
    "    metrics_dict = MS_nonformer_metrics_dict\n",
    "    rotation = 0\n",
    "    cosumized = \"MS\"\n",
    "else:\n",
    "    metrics_dict = S_nonformer_metrics_dict\n",
    "    rotation = 20\n",
    "    cosumized = \"S\"\n",
    "    \n",
    "prefixDict = dict(zip([\"toy_random_random\", \"toy_random_increase\", \"toy_stair_increase\", \"toy_stair_random\"], \n",
    "                        [\"toy_random_random\", \"toy_random_increase\", \"toy_stair_increase\", \"toy_stair_random\"]))\n",
    "prefix = prefixDict[dataset]\n",
    "\n",
    "plot_metrics = metrics_dict\n",
    "plot_rotation = rotation\n",
    "plot_cosumized = cosumized\n",
    "\n",
    "plot_all = True\n",
    "if plot_all:\n",
    "    plot_metrics_dict = {}\n",
    "    plot_metrics_dict.update(**S_nonformer_metrics_dict)\n",
    "    plot_metrics_dict.update(**MS_nonformer_metrics_dict)\n",
    "    plot_cosumized = \"\"\n",
    "    plot_rotation = 60"
   ]
  },
  {
   "cell_type": "markdown",
   "id": "1800e082-9995-40f1-a46e-6f0c55e243e8",
   "metadata": {},
   "source": [
    "## horizon"
   ]
  },
  {
   "cell_type": "code",
   "execution_count": 20,
   "id": "f31de8ea-bc83-4664-9cff-9f2581b5471f",
   "metadata": {},
   "outputs": [],
   "source": [
    "def color_rank(df): \n",
    "    rank = df.rank()\n",
    "    lst = []\n",
    "    for i in rank:\n",
    "        if i == 1:\n",
    "            lst.append('color:red')\n",
    "        elif i == 2:\n",
    "            lst.append(f'color: green')\n",
    "        else:\n",
    "            lst.append(None)\n",
    "    return lst\n",
    "\n",
    "def bold_rank(df): \n",
    "    rank = df.rank()\n",
    "    lst = []\n",
    "    bold = \"bold\"\n",
    "    for i in rank:\n",
    "        if i <= 2:\n",
    "            lst.append('font-weight: %s' % bold)\n",
    "        else:\n",
    "            lst.append(None)\n",
    "    return lst\n",
    "def count_performance1(df, model_lst):\n",
    "    count = 0\n",
    "    for col in model_lst:\n",
    "        if df[f\"{col}-De\"]<df[f\"{col}\"]:\n",
    "            count += 1\n",
    "    return count\n",
    "def count_performance2(df, model_lst):\n",
    "    count = 0\n",
    "    for col in model_lst:\n",
    "        if (df[f\"{col}-De\"]<df[f\"{col}\"]) and (df[f\"{col}-De\"]<df[f\"{col}-EWT\"]):\n",
    "            count += 1\n",
    "    return count\n",
    "\n",
    "def styler(df):\n",
    "    cols = [col for col in df.columns if \"Count\" not in col]\n",
    "    df = df.style.apply(func=color_rank, axis=1, subset=cols)\n",
    "    df = df.apply(bold_rank, axis=1, subset=cols).format(\"{:.3f}\", subset=cols)\n",
    "    return df"
   ]
  },
  {
   "cell_type": "code",
   "execution_count": 21,
   "id": "9be5947c-8298-4977-8400-52ae9f119f23",
   "metadata": {},
   "outputs": [],
   "source": [
    "save_metrics = {}\n",
    "target_horizon_lst = [\"horizon1\", \"horizon2\", \"horizon3\", \"horizon4\", \"horizon5\",\n",
    "                      \"horizon6\",\"horizon7\",\"horizon8\", \"horizon9\", \"horizon10\", \"avghorizon\"]#, \"horizon6\", \"horizon10\", \"horizon20\", \"avghorizon\"]\n",
    "for key, value in metrics_dict.items():\n",
    "    save_metrics[key] = metrics_dict[key].loc[target_horizon_lst, :][\"rmse\"].to_dict()"
   ]
  },
  {
   "cell_type": "code",
   "execution_count": 22,
   "id": "c9501457-22c2-46e6-9492-e9caa8f152f9",
   "metadata": {},
   "outputs": [
    {
     "data": {
      "text/plain": [
       "dict_keys(['LSTM', 'TPA', 'TCN', 'LogTrans', 'TPA-De', 'LSTM-De', 'TCN-De', 'LogTrans-De'])"
      ]
     },
     "execution_count": 22,
     "metadata": {},
     "output_type": "execute_result"
    }
   ],
   "source": [
    "metrics_dict.keys()"
   ]
  },
  {
   "cell_type": "code",
   "execution_count": 23,
   "id": "790239f5-8405-4cb0-99f5-3e6d1de58131",
   "metadata": {},
   "outputs": [],
   "source": [
    "# MODEL_LST = set([i.split(\"-\")[-1] for i in list(save_metrics.keys())])\n",
    "MODEL_LST = modelNameDict.values()\n",
    "save_metrics_df = pd.DataFrame(save_metrics).reindex(columns=sum([[i, f'{i}-De'] for i in modelNameDict.values()], []))\n",
    "# save_metrics_df[\"Count\"] = save_metrics_df.apply(count_performance, postfix1=\"De\", postfix2=\"EWT\", model_lst=MODEL_LST, axis=1)\n",
    "\n",
    "save_metrics_df[\"Count1\"] = save_metrics_df.apply(count_performance1, model_lst=MODEL_LST, axis=1)\n",
    "# save_metrics_df[\"Count2\"] = save_metrics_df.apply(count_performance2, model_lst=MODEL_LST, axis=1)\n",
    "save_metrics_df = styler(save_metrics_df)\n",
    "# save_metrics_df = save_metrics_df.style.apply(func=color_rank, axis=1, subset=save_metrics_df.columns[:-1])\n",
    "# save_metrics_df = save_metrics_df.apply(bold_rank, axis=1, subset=save_metrics_df.columns[:-1]).format(\"{:.3f}\", subset=save_metrics_df.columns[:-1])"
   ]
  },
  {
   "cell_type": "code",
   "execution_count": 24,
   "id": "3a18799a-56c8-4eab-927a-315b05a80397",
   "metadata": {},
   "outputs": [
    {
     "data": {
      "text/html": [
       "<style type=\"text/css\">\n",
       "#T_53df0_row0_col3, #T_53df0_row1_col1, #T_53df0_row2_col1, #T_53df0_row3_col1, #T_53df0_row4_col1, #T_53df0_row5_col1, #T_53df0_row6_col1, #T_53df0_row7_col1, #T_53df0_row8_col1, #T_53df0_row9_col3, #T_53df0_row10_col3 {\n",
       "  color: red;\n",
       "  font-weight: bold;\n",
       "}\n",
       "#T_53df0_row0_col5, #T_53df0_row1_col3, #T_53df0_row2_col3, #T_53df0_row3_col3, #T_53df0_row4_col5, #T_53df0_row5_col3, #T_53df0_row6_col3, #T_53df0_row7_col3, #T_53df0_row8_col3, #T_53df0_row9_col5, #T_53df0_row10_col1 {\n",
       "  color: green;\n",
       "  font-weight: bold;\n",
       "}\n",
       "</style>\n",
       "<table id=\"T_53df0_\">\n",
       "  <thead>\n",
       "    <tr>\n",
       "      <th class=\"blank level0\" >&nbsp;</th>\n",
       "      <th class=\"col_heading level0 col0\" >LSTM</th>\n",
       "      <th class=\"col_heading level0 col1\" >LSTM-De</th>\n",
       "      <th class=\"col_heading level0 col2\" >TPA</th>\n",
       "      <th class=\"col_heading level0 col3\" >TPA-De</th>\n",
       "      <th class=\"col_heading level0 col4\" >TCN</th>\n",
       "      <th class=\"col_heading level0 col5\" >TCN-De</th>\n",
       "      <th class=\"col_heading level0 col6\" >LogTrans</th>\n",
       "      <th class=\"col_heading level0 col7\" >LogTrans-De</th>\n",
       "      <th class=\"col_heading level0 col8\" >Count1</th>\n",
       "    </tr>\n",
       "  </thead>\n",
       "  <tbody>\n",
       "    <tr>\n",
       "      <th id=\"T_53df0_level0_row0\" class=\"row_heading level0 row0\" >horizon1</th>\n",
       "      <td id=\"T_53df0_row0_col0\" class=\"data row0 col0\" >0.798</td>\n",
       "      <td id=\"T_53df0_row0_col1\" class=\"data row0 col1\" >0.379</td>\n",
       "      <td id=\"T_53df0_row0_col2\" class=\"data row0 col2\" >0.542</td>\n",
       "      <td id=\"T_53df0_row0_col3\" class=\"data row0 col3\" >0.347</td>\n",
       "      <td id=\"T_53df0_row0_col4\" class=\"data row0 col4\" >0.418</td>\n",
       "      <td id=\"T_53df0_row0_col5\" class=\"data row0 col5\" >0.362</td>\n",
       "      <td id=\"T_53df0_row0_col6\" class=\"data row0 col6\" >0.803</td>\n",
       "      <td id=\"T_53df0_row0_col7\" class=\"data row0 col7\" >0.396</td>\n",
       "      <td id=\"T_53df0_row0_col8\" class=\"data row0 col8\" >4</td>\n",
       "    </tr>\n",
       "    <tr>\n",
       "      <th id=\"T_53df0_level0_row1\" class=\"row_heading level0 row1\" >horizon2</th>\n",
       "      <td id=\"T_53df0_row1_col0\" class=\"data row1 col0\" >0.852</td>\n",
       "      <td id=\"T_53df0_row1_col1\" class=\"data row1 col1\" >0.350</td>\n",
       "      <td id=\"T_53df0_row1_col2\" class=\"data row1 col2\" >0.540</td>\n",
       "      <td id=\"T_53df0_row1_col3\" class=\"data row1 col3\" >0.351</td>\n",
       "      <td id=\"T_53df0_row1_col4\" class=\"data row1 col4\" >0.419</td>\n",
       "      <td id=\"T_53df0_row1_col5\" class=\"data row1 col5\" >0.374</td>\n",
       "      <td id=\"T_53df0_row1_col6\" class=\"data row1 col6\" >1.022</td>\n",
       "      <td id=\"T_53df0_row1_col7\" class=\"data row1 col7\" >0.404</td>\n",
       "      <td id=\"T_53df0_row1_col8\" class=\"data row1 col8\" >4</td>\n",
       "    </tr>\n",
       "    <tr>\n",
       "      <th id=\"T_53df0_level0_row2\" class=\"row_heading level0 row2\" >horizon3</th>\n",
       "      <td id=\"T_53df0_row2_col0\" class=\"data row2 col0\" >1.326</td>\n",
       "      <td id=\"T_53df0_row2_col1\" class=\"data row2 col1\" >0.344</td>\n",
       "      <td id=\"T_53df0_row2_col2\" class=\"data row2 col2\" >0.501</td>\n",
       "      <td id=\"T_53df0_row2_col3\" class=\"data row2 col3\" >0.353</td>\n",
       "      <td id=\"T_53df0_row2_col4\" class=\"data row2 col4\" >0.431</td>\n",
       "      <td id=\"T_53df0_row2_col5\" class=\"data row2 col5\" >0.372</td>\n",
       "      <td id=\"T_53df0_row2_col6\" class=\"data row2 col6\" >0.927</td>\n",
       "      <td id=\"T_53df0_row2_col7\" class=\"data row2 col7\" >0.688</td>\n",
       "      <td id=\"T_53df0_row2_col8\" class=\"data row2 col8\" >4</td>\n",
       "    </tr>\n",
       "    <tr>\n",
       "      <th id=\"T_53df0_level0_row3\" class=\"row_heading level0 row3\" >horizon4</th>\n",
       "      <td id=\"T_53df0_row3_col0\" class=\"data row3 col0\" >0.941</td>\n",
       "      <td id=\"T_53df0_row3_col1\" class=\"data row3 col1\" >0.346</td>\n",
       "      <td id=\"T_53df0_row3_col2\" class=\"data row3 col2\" >0.547</td>\n",
       "      <td id=\"T_53df0_row3_col3\" class=\"data row3 col3\" >0.353</td>\n",
       "      <td id=\"T_53df0_row3_col4\" class=\"data row3 col4\" >0.411</td>\n",
       "      <td id=\"T_53df0_row3_col5\" class=\"data row3 col5\" >0.373</td>\n",
       "      <td id=\"T_53df0_row3_col6\" class=\"data row3 col6\" >0.906</td>\n",
       "      <td id=\"T_53df0_row3_col7\" class=\"data row3 col7\" >0.371</td>\n",
       "      <td id=\"T_53df0_row3_col8\" class=\"data row3 col8\" >4</td>\n",
       "    </tr>\n",
       "    <tr>\n",
       "      <th id=\"T_53df0_level0_row4\" class=\"row_heading level0 row4\" >horizon5</th>\n",
       "      <td id=\"T_53df0_row4_col0\" class=\"data row4 col0\" >1.154</td>\n",
       "      <td id=\"T_53df0_row4_col1\" class=\"data row4 col1\" >0.349</td>\n",
       "      <td id=\"T_53df0_row4_col2\" class=\"data row4 col2\" >0.555</td>\n",
       "      <td id=\"T_53df0_row4_col3\" class=\"data row4 col3\" >0.368</td>\n",
       "      <td id=\"T_53df0_row4_col4\" class=\"data row4 col4\" >0.434</td>\n",
       "      <td id=\"T_53df0_row4_col5\" class=\"data row4 col5\" >0.356</td>\n",
       "      <td id=\"T_53df0_row4_col6\" class=\"data row4 col6\" >0.816</td>\n",
       "      <td id=\"T_53df0_row4_col7\" class=\"data row4 col7\" >0.372</td>\n",
       "      <td id=\"T_53df0_row4_col8\" class=\"data row4 col8\" >4</td>\n",
       "    </tr>\n",
       "    <tr>\n",
       "      <th id=\"T_53df0_level0_row5\" class=\"row_heading level0 row5\" >horizon6</th>\n",
       "      <td id=\"T_53df0_row5_col0\" class=\"data row5 col0\" >0.810</td>\n",
       "      <td id=\"T_53df0_row5_col1\" class=\"data row5 col1\" >0.348</td>\n",
       "      <td id=\"T_53df0_row5_col2\" class=\"data row5 col2\" >1.101</td>\n",
       "      <td id=\"T_53df0_row5_col3\" class=\"data row5 col3\" >0.356</td>\n",
       "      <td id=\"T_53df0_row5_col4\" class=\"data row5 col4\" >0.464</td>\n",
       "      <td id=\"T_53df0_row5_col5\" class=\"data row5 col5\" >0.359</td>\n",
       "      <td id=\"T_53df0_row5_col6\" class=\"data row5 col6\" >0.847</td>\n",
       "      <td id=\"T_53df0_row5_col7\" class=\"data row5 col7\" >0.371</td>\n",
       "      <td id=\"T_53df0_row5_col8\" class=\"data row5 col8\" >4</td>\n",
       "    </tr>\n",
       "    <tr>\n",
       "      <th id=\"T_53df0_level0_row6\" class=\"row_heading level0 row6\" >horizon7</th>\n",
       "      <td id=\"T_53df0_row6_col0\" class=\"data row6 col0\" >0.812</td>\n",
       "      <td id=\"T_53df0_row6_col1\" class=\"data row6 col1\" >0.362</td>\n",
       "      <td id=\"T_53df0_row6_col2\" class=\"data row6 col2\" >1.458</td>\n",
       "      <td id=\"T_53df0_row6_col3\" class=\"data row6 col3\" >0.363</td>\n",
       "      <td id=\"T_53df0_row6_col4\" class=\"data row6 col4\" >0.467</td>\n",
       "      <td id=\"T_53df0_row6_col5\" class=\"data row6 col5\" >0.375</td>\n",
       "      <td id=\"T_53df0_row6_col6\" class=\"data row6 col6\" >0.767</td>\n",
       "      <td id=\"T_53df0_row6_col7\" class=\"data row6 col7\" >0.687</td>\n",
       "      <td id=\"T_53df0_row6_col8\" class=\"data row6 col8\" >4</td>\n",
       "    </tr>\n",
       "    <tr>\n",
       "      <th id=\"T_53df0_level0_row7\" class=\"row_heading level0 row7\" >horizon8</th>\n",
       "      <td id=\"T_53df0_row7_col0\" class=\"data row7 col0\" >0.988</td>\n",
       "      <td id=\"T_53df0_row7_col1\" class=\"data row7 col1\" >0.368</td>\n",
       "      <td id=\"T_53df0_row7_col2\" class=\"data row7 col2\" >0.527</td>\n",
       "      <td id=\"T_53df0_row7_col3\" class=\"data row7 col3\" >0.382</td>\n",
       "      <td id=\"T_53df0_row7_col4\" class=\"data row7 col4\" >0.495</td>\n",
       "      <td id=\"T_53df0_row7_col5\" class=\"data row7 col5\" >0.389</td>\n",
       "      <td id=\"T_53df0_row7_col6\" class=\"data row7 col6\" >0.840</td>\n",
       "      <td id=\"T_53df0_row7_col7\" class=\"data row7 col7\" >0.450</td>\n",
       "      <td id=\"T_53df0_row7_col8\" class=\"data row7 col8\" >4</td>\n",
       "    </tr>\n",
       "    <tr>\n",
       "      <th id=\"T_53df0_level0_row8\" class=\"row_heading level0 row8\" >horizon9</th>\n",
       "      <td id=\"T_53df0_row8_col0\" class=\"data row8 col0\" >1.075</td>\n",
       "      <td id=\"T_53df0_row8_col1\" class=\"data row8 col1\" >0.358</td>\n",
       "      <td id=\"T_53df0_row8_col2\" class=\"data row8 col2\" >0.505</td>\n",
       "      <td id=\"T_53df0_row8_col3\" class=\"data row8 col3\" >0.361</td>\n",
       "      <td id=\"T_53df0_row8_col4\" class=\"data row8 col4\" >0.531</td>\n",
       "      <td id=\"T_53df0_row8_col5\" class=\"data row8 col5\" >0.369</td>\n",
       "      <td id=\"T_53df0_row8_col6\" class=\"data row8 col6\" >0.740</td>\n",
       "      <td id=\"T_53df0_row8_col7\" class=\"data row8 col7\" >0.394</td>\n",
       "      <td id=\"T_53df0_row8_col8\" class=\"data row8 col8\" >4</td>\n",
       "    </tr>\n",
       "    <tr>\n",
       "      <th id=\"T_53df0_level0_row9\" class=\"row_heading level0 row9\" >horizon10</th>\n",
       "      <td id=\"T_53df0_row9_col0\" class=\"data row9 col0\" >1.227</td>\n",
       "      <td id=\"T_53df0_row9_col1\" class=\"data row9 col1\" >0.395</td>\n",
       "      <td id=\"T_53df0_row9_col2\" class=\"data row9 col2\" >2.103</td>\n",
       "      <td id=\"T_53df0_row9_col3\" class=\"data row9 col3\" >0.357</td>\n",
       "      <td id=\"T_53df0_row9_col4\" class=\"data row9 col4\" >0.469</td>\n",
       "      <td id=\"T_53df0_row9_col5\" class=\"data row9 col5\" >0.381</td>\n",
       "      <td id=\"T_53df0_row9_col6\" class=\"data row9 col6\" >0.862</td>\n",
       "      <td id=\"T_53df0_row9_col7\" class=\"data row9 col7\" >0.402</td>\n",
       "      <td id=\"T_53df0_row9_col8\" class=\"data row9 col8\" >4</td>\n",
       "    </tr>\n",
       "    <tr>\n",
       "      <th id=\"T_53df0_level0_row10\" class=\"row_heading level0 row10\" >avghorizon</th>\n",
       "      <td id=\"T_53df0_row10_col0\" class=\"data row10 col0\" >1.015</td>\n",
       "      <td id=\"T_53df0_row10_col1\" class=\"data row10 col1\" >0.360</td>\n",
       "      <td id=\"T_53df0_row10_col2\" class=\"data row10 col2\" >0.987</td>\n",
       "      <td id=\"T_53df0_row10_col3\" class=\"data row10 col3\" >0.359</td>\n",
       "      <td id=\"T_53df0_row10_col4\" class=\"data row10 col4\" >0.455</td>\n",
       "      <td id=\"T_53df0_row10_col5\" class=\"data row10 col5\" >0.371</td>\n",
       "      <td id=\"T_53df0_row10_col6\" class=\"data row10 col6\" >0.857</td>\n",
       "      <td id=\"T_53df0_row10_col7\" class=\"data row10 col7\" >0.469</td>\n",
       "      <td id=\"T_53df0_row10_col8\" class=\"data row10 col8\" >4</td>\n",
       "    </tr>\n",
       "  </tbody>\n",
       "</table>\n"
      ],
      "text/plain": [
       "<pandas.io.formats.style.Styler at 0x1b4a105c508>"
      ]
     },
     "execution_count": 24,
     "metadata": {},
     "output_type": "execute_result"
    }
   ],
   "source": [
    "# S\n",
    "save_metrics_df"
   ]
  },
  {
   "cell_type": "code",
   "execution_count": 26,
   "id": "cffbb4ed-f960-4036-b5a7-147ed165ad0d",
   "metadata": {},
   "outputs": [],
   "source": [
    "postfix = \"\"\n",
    "save_metrics_df.to_excel(f\"./save_file/{prefix}_{cosumized}horizons{postfix}.xlsx\")"
   ]
  },
  {
   "cell_type": "markdown",
   "id": "2b5c3178-8e5c-4ef3-b276-8a08a01b3f7c",
   "metadata": {},
   "source": [
    "## plot"
   ]
  },
  {
   "cell_type": "code",
   "execution_count": 27,
   "id": "1cfd6de6-a320-451d-9634-1e4f875e807c",
   "metadata": {},
   "outputs": [],
   "source": [
    "# taget_indictor = 'rmse'\n",
    "# target_horizon = \"avghorizon\"\n",
    "# fig, hist_dict = evaluation_show(plot_metrics_dict, prefix, taget_indictor, target_horizon, rotation=plot_rotation)"
   ]
  },
  {
   "cell_type": "code",
   "execution_count": 28,
   "id": "7879420e-76cc-495d-8f50-c000405d690b",
   "metadata": {},
   "outputs": [],
   "source": [
    "# metrics_dict.update(**former_metrics_dict)"
   ]
  },
  {
   "cell_type": "code",
   "execution_count": 29,
   "id": "0bacf4d7-6a45-486f-bb50-6f9ffd2b70e3",
   "metadata": {},
   "outputs": [],
   "source": [
    "# fig.savefig(f\"D:/汇报/Fig/{prefix}_{plot_cosumized}{taget_indictor}.pdf\", bbox_inches=\"tight\", dpi=300)"
   ]
  },
  {
   "cell_type": "code",
   "execution_count": 30,
   "id": "bf7dbc97-4b7e-4e9c-9f22-18a3a3be28c0",
   "metadata": {},
   "outputs": [],
   "source": [
    "# taget_indictor = 'r2'\n",
    "# fig, hist_dict = evaluation_show(plot_metrics_dict, prefix, taget_indictor, target_horizon, rotation=plot_rotation)"
   ]
  },
  {
   "cell_type": "code",
   "execution_count": 31,
   "id": "24a7160e-0b43-4937-ac40-b2179aa91080",
   "metadata": {},
   "outputs": [],
   "source": [
    "# fig.savefig(f\"D:/汇报/Fig/{prefix}_{plot_cosumized}{taget_indictor}.pdf\", bbox_inches=\"tight\", dpi=300)"
   ]
  },
  {
   "cell_type": "code",
   "execution_count": 32,
   "id": "a62d77c8-83ef-46f0-8969-eacf32353e86",
   "metadata": {},
   "outputs": [],
   "source": [
    "# taget_indictor = 'mape'\n",
    "# fig, hist_dict = evaluation_show(plot_metrics_dict, prefix, taget_indictor, target_horizon, rotation=plot_rotation)"
   ]
  },
  {
   "cell_type": "code",
   "execution_count": 33,
   "id": "6951b612-e387-447e-9713-20129429211d",
   "metadata": {},
   "outputs": [],
   "source": [
    "# fig.savefig(f\"D:/汇报/Fig/{prefix}_{plot_cosumized}{taget_indictor}.pdf\", bbox_inches=\"tight\", dpi=300)"
   ]
  }
 ],
 "metadata": {
  "kernelspec": {
   "display_name": "Python 3 (ipykernel)",
   "language": "python",
   "name": "python3"
  },
  "language_info": {
   "codemirror_mode": {
    "name": "ipython",
    "version": 3
   },
   "file_extension": ".py",
   "mimetype": "text/x-python",
   "name": "python",
   "nbconvert_exporter": "python",
   "pygments_lexer": "ipython3",
   "version": "3.7.6"
  },
  "toc-autonumbering": true,
  "vscode": {
   "interpreter": {
    "hash": "98eabb4ecb079f6ab10f8dee230a66b2a15b8304706421bed2d37b91eaa48f37"
   }
  }
 },
 "nbformat": 4,
 "nbformat_minor": 5
}
