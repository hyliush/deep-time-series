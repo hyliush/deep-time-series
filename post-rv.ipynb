{
 "cells": [
  {
   "cell_type": "code",
   "execution_count": 1,
   "id": "1fdf549a-3f0e-4f70-91f5-3d6b10bf12d6",
   "metadata": {},
   "outputs": [],
   "source": [
    "from IPython.core.interactiveshell import InteractiveShell as IS\n",
    "IS.ast_node_interactivity = \"all\"\n",
    "import sys\n",
    "from utils.tools import load_obj, save_obj\n",
    "import pandas as pd\n",
    "import numpy as np\n",
    "import matplotlib.pyplot as plt\n",
    "from sklearn.ensemble import IsolationForest\n",
    "from sklearn.metrics import mean_squared_error, r2_score\n",
    "from tqdm.notebook import tqdm"
   ]
  },
  {
   "cell_type": "code",
   "execution_count": 2,
   "id": "6e7a038c-dc48-43d2-999b-7d7c4ed7cef0",
   "metadata": {},
   "outputs": [],
   "source": [
    "def iewt1d(ewt, mfb):\n",
    "    # 转化为原始信号\n",
    "    real = all(np.isreal(ewt[0]))\n",
    "    if real:\n",
    "        rec = np.zeros(len(ewt[0]))\n",
    "        for i in range(0,len(ewt)):\n",
    "            rec += np.real(np.fft.ifft(np.fft.fft(ewt[i])*mfb[i]))\n",
    "    else:\n",
    "        rec = np.zeros(len(ewt[0]))*0j\n",
    "        for i in range(0,len(ewt)):\n",
    "            rec += np.fft.ifft(np.fft.fft(ewt[i])*mfb[i])\n",
    "    return rec"
   ]
  },
  {
   "cell_type": "code",
   "execution_count": 3,
   "id": "e7c3d324-82a6-45f5-855b-5c6915019e12",
   "metadata": {},
   "outputs": [],
   "source": [
    "def MAPE(pred, true):\n",
    "    return np.mean(np.abs((pred - true) / true))\n",
    "def metircs(true, pred):\n",
    "    rmse = np.sqrt(mean_squared_error(true, pred))\n",
    "    r2 = r2_score(true, pred)\n",
    "    mape = MAPE(pred, true)\n",
    "    return {\"rmse\":rmse, \"r2\":r2, \"mape\":mape}"
   ]
  },
  {
   "cell_type": "markdown",
   "id": "5b37063e-0277-41d7-ac0f-608013d80b98",
   "metadata": {},
   "source": [
    "## 数据加载"
   ]
  },
  {
   "cell_type": "code",
   "execution_count": 4,
   "id": "d8219f59-cecf-4ef7-914f-7174a6c0f6ba",
   "metadata": {},
   "outputs": [
    {
     "data": {
      "text/html": [
       "<div>\n",
       "<style scoped>\n",
       "    .dataframe tbody tr th:only-of-type {\n",
       "        vertical-align: middle;\n",
       "    }\n",
       "\n",
       "    .dataframe tbody tr th {\n",
       "        vertical-align: top;\n",
       "    }\n",
       "\n",
       "    .dataframe thead th {\n",
       "        text-align: right;\n",
       "    }\n",
       "</style>\n",
       "<table border=\"1\" class=\"dataframe\">\n",
       "  <thead>\n",
       "    <tr style=\"text-align: right;\">\n",
       "      <th></th>\n",
       "      <th>stock_id</th>\n",
       "      <th>rv</th>\n",
       "      <th>rv0</th>\n",
       "      <th>rv1</th>\n",
       "      <th>rv2</th>\n",
       "      <th>rv0_mfb</th>\n",
       "      <th>rv1_mfb</th>\n",
       "      <th>rv2_mfb</th>\n",
       "    </tr>\n",
       "    <tr>\n",
       "      <th>Date</th>\n",
       "      <th></th>\n",
       "      <th></th>\n",
       "      <th></th>\n",
       "      <th></th>\n",
       "      <th></th>\n",
       "      <th></th>\n",
       "      <th></th>\n",
       "      <th></th>\n",
       "    </tr>\n",
       "  </thead>\n",
       "  <tbody>\n",
       "    <tr>\n",
       "      <th>2012-02-20</th>\n",
       "      <td>0</td>\n",
       "      <td>-8.010988</td>\n",
       "      <td>-7.996523</td>\n",
       "      <td>-0.386654</td>\n",
       "      <td>0.397335</td>\n",
       "      <td>1.000000</td>\n",
       "      <td>0.000000</td>\n",
       "      <td>0.0</td>\n",
       "    </tr>\n",
       "    <tr>\n",
       "      <th>2012-02-21</th>\n",
       "      <td>0</td>\n",
       "      <td>-8.849957</td>\n",
       "      <td>-7.997371</td>\n",
       "      <td>-0.395975</td>\n",
       "      <td>-0.395132</td>\n",
       "      <td>1.000000</td>\n",
       "      <td>0.000000</td>\n",
       "      <td>0.0</td>\n",
       "    </tr>\n",
       "    <tr>\n",
       "      <th>2012-02-22</th>\n",
       "      <td>0</td>\n",
       "      <td>-8.861943</td>\n",
       "      <td>-7.998217</td>\n",
       "      <td>-0.405250</td>\n",
       "      <td>-0.445672</td>\n",
       "      <td>0.998193</td>\n",
       "      <td>0.060083</td>\n",
       "      <td>0.0</td>\n",
       "    </tr>\n",
       "    <tr>\n",
       "      <th>2012-02-23</th>\n",
       "      <td>0</td>\n",
       "      <td>-9.099481</td>\n",
       "      <td>-7.999062</td>\n",
       "      <td>-0.414478</td>\n",
       "      <td>-0.618561</td>\n",
       "      <td>0.707107</td>\n",
       "      <td>0.707107</td>\n",
       "      <td>0.0</td>\n",
       "    </tr>\n",
       "    <tr>\n",
       "      <th>2012-02-24</th>\n",
       "      <td>0</td>\n",
       "      <td>-8.986639</td>\n",
       "      <td>-7.999905</td>\n",
       "      <td>-0.423655</td>\n",
       "      <td>-0.562358</td>\n",
       "      <td>0.060083</td>\n",
       "      <td>0.998193</td>\n",
       "      <td>0.0</td>\n",
       "    </tr>\n",
       "  </tbody>\n",
       "</table>\n",
       "</div>"
      ],
      "text/plain": [
       "            stock_id        rv       rv0       rv1       rv2   rv0_mfb  \\\n",
       "Date                                                                     \n",
       "2012-02-20         0 -8.010988 -7.996523 -0.386654  0.397335  1.000000   \n",
       "2012-02-21         0 -8.849957 -7.997371 -0.395975 -0.395132  1.000000   \n",
       "2012-02-22         0 -8.861943 -7.998217 -0.405250 -0.445672  0.998193   \n",
       "2012-02-23         0 -9.099481 -7.999062 -0.414478 -0.618561  0.707107   \n",
       "2012-02-24         0 -8.986639 -7.999905 -0.423655 -0.562358  0.060083   \n",
       "\n",
       "             rv1_mfb  rv2_mfb  \n",
       "Date                           \n",
       "2012-02-20  0.000000      0.0  \n",
       "2012-02-21  0.000000      0.0  \n",
       "2012-02-22  0.060083      0.0  \n",
       "2012-02-23  0.707107      0.0  \n",
       "2012-02-24  0.998193      0.0  "
      ]
     },
     "execution_count": 4,
     "metadata": {},
     "output_type": "execute_result"
    }
   ],
   "source": [
    "TARGET = \"rv\"\n",
    "cols = [TARGET]\n",
    "df = pd.read_csv(f\"./data/{TARGET}.csv\", index_col=[0], parse_dates=True)\n",
    "df.head()\n",
    "metrics_dict = {}"
   ]
  },
  {
   "cell_type": "code",
   "execution_count": 5,
   "id": "1eeaa230-667e-4cac-946a-0b734e5f185b",
   "metadata": {},
   "outputs": [],
   "source": [
    "N = 3"
   ]
  },
  {
   "cell_type": "markdown",
   "id": "b092e044-e060-42fc-b899-8ac2dcbbb332",
   "metadata": {},
   "source": [
    "## 直接重构"
   ]
  },
  {
   "cell_type": "code",
   "execution_count": 6,
   "id": "cd920877-7c82-4096-b359-c3e076042f7e",
   "metadata": {},
   "outputs": [],
   "source": [
    "tmp_mfb = df[[f\"rv{i}_mfb\" for i in range(N)]].values\n",
    "ewt_pred = df[[f\"rv{i}\" for i in range(N)]].values\n",
    "\n",
    "df_for_inverse = pd.DataFrame(np.concatenate([ewt_pred, tmp_mfb], axis=1), index=df[\"stock_id\"])\n",
    "reconstruction = df_for_inverse.groupby(df_for_inverse.index).apply(lambda x:iewt1d(x.iloc[:, :N].values.T, x.iloc[:, -N:].values.T))\n",
    "reconstruction = np.concatenate(reconstruction.values)"
   ]
  },
  {
   "cell_type": "code",
   "execution_count": 7,
   "id": "079f9b73-00c8-40ab-a730-404fdaff48c1",
   "metadata": {},
   "outputs": [
    {
     "data": {
      "text/plain": [
       "{'rmse': 0.05571936805402251,\n",
       " 'r2': 0.9968427499744932,\n",
       " 'mape': 0.005752867992652166}"
      ]
     },
     "execution_count": 7,
     "metadata": {},
     "output_type": "execute_result"
    }
   ],
   "source": [
    "metircs(df[\"rv\"].values, reconstruction)"
   ]
  },
  {
   "cell_type": "markdown",
   "id": "1a20127c-b730-4f4c-8a96-31e05ebbf3c0",
   "metadata": {},
   "source": [
    "## lstm-ewt 预测"
   ]
  },
  {
   "cell_type": "code",
   "execution_count": 8,
   "id": "7650633e-fcdc-4a70-a838-a2652d57229a",
   "metadata": {},
   "outputs": [],
   "source": [
    "seq_len, pred_len = 40, 1\n",
    "HORIZON = 10\n",
    "total_len = len(df)"
   ]
  },
  {
   "cell_type": "code",
   "execution_count": 9,
   "id": "74f7a5b7-294b-42aa-8d99-682f38201c1f",
   "metadata": {},
   "outputs": [],
   "source": [
    "for model_name in [\"lstm\"]:\n",
    "    # 不同horizon下的分量预测结果\n",
    "    lstmewt_horizon_dict = {}\n",
    "    for hn in range(1, HORIZON+1):\n",
    "        # 加载不同horizon下的各分量预测结果\n",
    "        pred_lst = []\n",
    "        true_lst = []\n",
    "        for i in range(N):\n",
    "            true, pred = load_obj(f\"./results/mydata/{model_name}_mydata_ftS_sl{seq_len}_ll0_pl{pred_len}_is1_os1_hn{hn}_bs32_lr0.001_{TARGET}{i}_standar/true_pred.pkl\")\n",
    "            true_lst.append(true)\n",
    "            pred_lst.append(pred)\n",
    "        pred_lstm = np.concatenate(pred_lst,axis=-1)\n",
    "        true_lstm = np.concatenate(true_lst, axis=-1)\n",
    "        lstmewt_horizon_dict[hn] = [true_lstm, pred_lstm]\n",
    "\n",
    "    lstmewt_metrics = {}\n",
    "    trues_test_lst, preds_test_lst = [], []\n",
    "    for horizon in range(1, HORIZON+1):\n",
    "        out_len = max(pred_len, horizon)\n",
    "        train_idxs, val_idxs, test_idxs = load_obj(f\"./save_file/idxs{out_len}.pkl\")\n",
    "        gap = horizon - 1\n",
    "        add_len = seq_len+gap\n",
    "        train_idxs += add_len\n",
    "        val_idxs += add_len\n",
    "        test_idxs += add_len\n",
    "        idxs = [i for i in train_idxs.tolist()+val_idxs.tolist()+test_idxs.tolist()]\n",
    "\n",
    "        df_copy = df.copy()\n",
    "        condition = pd.Series(range(len(df_copy))).isin(idxs).values\n",
    "        df_copy.loc[condition, [f\"rv{i}_pred\" for i in range(N)]] = lstmewt_horizon_dict[horizon][1].squeeze()\n",
    "        df_copy.loc[~condition, [f\"rv{i}_pred\" for i in range(N)]] = df_copy.loc[~condition, [f\"rv{i}\" for i in range(N)]].values\n",
    "\n",
    "        tmp_mfb = df_copy[[f\"rv{i}_mfb\" for i in range(N)]].values\n",
    "        ewt_pred = df_copy[[f\"rv{i}_pred\" for i in range(N)]].values\n",
    "\n",
    "        df_for_inverse = pd.DataFrame(np.concatenate([ewt_pred, tmp_mfb], axis=1), index=df_copy[\"stock_id\"])\n",
    "        reconstruction = df_for_inverse.groupby(df_for_inverse.index).apply(lambda x:iewt1d(x.iloc[:, :N].values.T, x.iloc[:, -N:].values.T))\n",
    "        reconstruction = np.concatenate(reconstruction.values)\n",
    "        # 分量的预测效果\n",
    "        # metircs(df_copy.iloc[test_idxs][\"rv2\"].values, ewt_pred[:, -1][test_idxs])\n",
    "        true_test = df_copy.iloc[test_idxs][\"rv\"].values\n",
    "        pred_test = reconstruction[test_idxs]\n",
    "\n",
    "        lstmewt_metrics[f\"horizon{horizon}\"] = metircs(true_test, pred_test)\n",
    "        trues_test_lst.append(true_test)\n",
    "        preds_test_lst.append(pred_test)\n",
    "    trues_test_all, preds_test_all = np.concatenate(trues_test_lst),  np.concatenate(preds_test_lst)\n",
    "    lstmewt_metrics[\"avghorizon\"] = metircs(trues_test_all, preds_test_all)\n",
    "    metrics_dict[f\"{model_name}ewt\"] = pd.DataFrame(lstmewt_metrics).T"
   ]
  },
  {
   "cell_type": "code",
   "execution_count": 10,
   "id": "c92019c1-f853-4376-b3d3-ab97fcf2e77c",
   "metadata": {},
   "outputs": [
    {
     "data": {
      "text/plain": [
       "{'rmse': 0.011593470572060454,\n",
       " 'r2': 0.9924158437534248,\n",
       " 'mape': 0.0013345073060143785}"
      ]
     },
     "execution_count": 10,
     "metadata": {},
     "output_type": "execute_result"
    },
    {
     "data": {
      "text/plain": [
       "{'rmse': 0.005251188024231342,\n",
       " 'r2': 0.9993275522599573,\n",
       " 'mape': 0.12677916525467114}"
      ]
     },
     "execution_count": 10,
     "metadata": {},
     "output_type": "execute_result"
    },
    {
     "data": {
      "text/plain": [
       "{'rmse': 0.4372269741704058,\n",
       " 'r2': -0.008451325415049338,\n",
       " 'mape': 1.3457472729952107}"
      ]
     },
     "execution_count": 10,
     "metadata": {},
     "output_type": "execute_result"
    }
   ],
   "source": [
    "i = 300\n",
    "metircs(true_lstm[-i:, 0, 0], pred_lstm[-i:, 0, 0])\n",
    "metircs(true_lstm[-i:, 0, 1], pred_lstm[-i:, 0, 1])\n",
    "metircs(true_lstm[-i:, 0, 2], pred_lstm[-i:, 0, 2])"
   ]
  },
  {
   "cell_type": "code",
   "execution_count": 12,
   "id": "9a2996b6-230e-4fad-a795-032e5704ca36",
   "metadata": {},
   "outputs": [
    {
     "data": {
      "text/plain": [
       "[<matplotlib.lines.Line2D at 0x2a2a67d1508>]"
      ]
     },
     "execution_count": 12,
     "metadata": {},
     "output_type": "execute_result"
    },
    {
     "data": {
      "text/plain": [
       "[<matplotlib.lines.Line2D at 0x2a2a43949c8>]"
      ]
     },
     "execution_count": 12,
     "metadata": {},
     "output_type": "execute_result"
    },
    {
     "data": {
      "image/png": "[encoded data removed]",
      "text/plain": [
       "<Figure size 432x288 with 1 Axes>"
      ]
     },
     "metadata": {
      "needs_background": "light"
     },
     "output_type": "display_data"
    }
   ],
   "source": [
    "plt.plot(df_copy[\"rv\"][-100:].values)\n",
    "plt.plot(reconstruction[-100:])"
   ]
  },
  {
   "cell_type": "code",
   "execution_count": 13,
   "id": "a06a8969-185e-4e5e-bac5-e5a464b5cee4",
   "metadata": {},
   "outputs": [],
   "source": [
    "target_horizon = 1\n",
    "target = df_copy[\"rv\"].values\n",
    "lstmewt_target_horizon_data = [target, reconstruction, ewt_pred]"
   ]
  },
  {
   "cell_type": "code",
   "execution_count": 14,
   "id": "4dca6fb3-59c0-4b18-b0e4-0d8f499b3355",
   "metadata": {},
   "outputs": [
    {
     "data": {
      "text/plain": [
       "[<matplotlib.lines.Line2D at 0x2a2aa5e6848>]"
      ]
     },
     "execution_count": 14,
     "metadata": {},
     "output_type": "execute_result"
    },
    {
     "data": {
      "text/plain": [
       "[<matplotlib.lines.Line2D at 0x2a2aa5e6e08>]"
      ]
     },
     "execution_count": 14,
     "metadata": {},
     "output_type": "execute_result"
    },
    {
     "data": {
      "image/png": "[encoded data removed]",
      "text/plain": [
       "<Figure size 432x288 with 1 Axes>"
      ]
     },
     "metadata": {
      "needs_background": "light"
     },
     "output_type": "display_data"
    }
   ],
   "source": [
    "plt.plot(true_test[:100])\n",
    "plt.plot(pred_test[:100])"
   ]
  },
  {
   "cell_type": "code",
   "execution_count": 15,
   "id": "7afa555c-0a2c-4776-ad92-ac1d83b221e2",
   "metadata": {},
   "outputs": [
    {
     "data": {
      "text/plain": [
       "[<matplotlib.lines.Line2D at 0x2a2af618388>]"
      ]
     },
     "execution_count": 15,
     "metadata": {},
     "output_type": "execute_result"
    },
    {
     "data": {
      "text/plain": [
       "[<matplotlib.lines.Line2D at 0x2a2af618948>]"
      ]
     },
     "execution_count": 15,
     "metadata": {},
     "output_type": "execute_result"
    },
    {
     "data": {
      "image/png": "[encoded data removed]",
      "text/plain": [
       "<Figure size 432x288 with 1 Axes>"
      ]
     },
     "metadata": {
      "needs_background": "light"
     },
     "output_type": "display_data"
    }
   ],
   "source": [
    "plt.plot(df_copy[\"rv0\"].iloc[test_idxs].values[:1000])\n",
    "plt.plot(df_copy[\"rv0_pred\"].iloc[test_idxs].values[:1000])"
   ]
  },
  {
   "cell_type": "code",
   "execution_count": 16,
   "id": "99647962-f873-463d-b35b-0acb3438b82b",
   "metadata": {},
   "outputs": [
    {
     "data": {
      "text/plain": [
       "[<matplotlib.lines.Line2D at 0x2a2a42c0f08>]"
      ]
     },
     "execution_count": 16,
     "metadata": {},
     "output_type": "execute_result"
    },
    {
     "data": {
      "text/plain": [
       "[<matplotlib.lines.Line2D at 0x2a2a42a0388>]"
      ]
     },
     "execution_count": 16,
     "metadata": {},
     "output_type": "execute_result"
    },
    {
     "data": {
      "image/png": "[encoded data removed]",
      "text/plain": [
       "<Figure size 432x288 with 1 Axes>"
      ]
     },
     "metadata": {
      "needs_background": "light"
     },
     "output_type": "display_data"
    }
   ],
   "source": [
    "plt.plot(df_copy[\"rv0\"].values[-1000:])\n",
    "plt.plot(df_copy[\"rv0_pred\"].values[-1000:])"
   ]
  },
  {
   "cell_type": "code",
   "execution_count": 17,
   "id": "ab40a343-e116-4ff8-9b84-aa7a2225e566",
   "metadata": {},
   "outputs": [
    {
     "data": {
      "text/plain": [
       "[<matplotlib.lines.Line2D at 0x2a2a431fdc8>]"
      ]
     },
     "execution_count": 17,
     "metadata": {},
     "output_type": "execute_result"
    },
    {
     "data": {
      "text/plain": [
       "[<matplotlib.lines.Line2D at 0x2a2a4329148>]"
      ]
     },
     "execution_count": 17,
     "metadata": {},
     "output_type": "execute_result"
    },
    {
     "data": {
      "image/png": "[encoded data removed]",
      "text/plain": [
       "<Figure size 432x288 with 1 Axes>"
      ]
     },
     "metadata": {
      "needs_background": "light"
     },
     "output_type": "display_data"
    }
   ],
   "source": [
    "plt.plot(df_copy[\"rv1\"].values[-1000:])\n",
    "plt.plot(df_copy[\"rv1_pred\"].values[-1000:])"
   ]
  },
  {
   "cell_type": "code",
   "execution_count": 18,
   "id": "81ac4efc-fae5-4a79-b883-2a7d54eff4c2",
   "metadata": {},
   "outputs": [
    {
     "data": {
      "text/plain": [
       "[<matplotlib.lines.Line2D at 0x2a2a47d6688>]"
      ]
     },
     "execution_count": 18,
     "metadata": {},
     "output_type": "execute_result"
    },
    {
     "data": {
      "text/plain": [
       "[<matplotlib.lines.Line2D at 0x2a2a47b1f08>]"
      ]
     },
     "execution_count": 18,
     "metadata": {},
     "output_type": "execute_result"
    },
    {
     "data": {
      "image/png": "[encoded data removed]",
      "text/plain": [
       "<Figure size 432x288 with 1 Axes>"
      ]
     },
     "metadata": {
      "needs_background": "light"
     },
     "output_type": "display_data"
    }
   ],
   "source": [
    "plt.plot(true_lstm[-1000:, 0, 0])\n",
    "plt.plot(pred_lstm[-1000:, 0, 0])"
   ]
  },
  {
   "cell_type": "code",
   "execution_count": 19,
   "id": "077e2554-923a-427d-a6d8-b2624e12f01d",
   "metadata": {},
   "outputs": [
    {
     "data": {
      "text/plain": [
       "[<matplotlib.lines.Line2D at 0x2a2a48329c8>]"
      ]
     },
     "execution_count": 19,
     "metadata": {},
     "output_type": "execute_result"
    },
    {
     "data": {
      "text/plain": [
       "[<matplotlib.lines.Line2D at 0x2a2a4838348>]"
      ]
     },
     "execution_count": 19,
     "metadata": {},
     "output_type": "execute_result"
    },
    {
     "data": {
      "image/png": "[encoded data removed]",
      "text/plain": [
       "<Figure size 432x288 with 1 Axes>"
      ]
     },
     "metadata": {
      "needs_background": "light"
     },
     "output_type": "display_data"
    }
   ],
   "source": [
    "plt.plot(df_copy[\"rv2\"].iloc[test_idxs].values[:100])\n",
    "plt.plot(df_copy[\"rv2_pred\"].iloc[test_idxs].values[:100])"
   ]
  },
  {
   "cell_type": "code",
   "execution_count": 20,
   "id": "1d318a24-fc38-4f86-b2c5-fc2fe3996c3a",
   "metadata": {
    "tags": []
   },
   "outputs": [],
   "source": [
    "# lstmewt_metrics = {}\n",
    "# out_len = max(pred_len, horizon)\n",
    "# gap = horizon - 1\n",
    "# pre_len = seq_len + gap\n",
    "# pre_df = df.groupby(\"stock_id\").apply(lambda x:x[:pre_len])\n",
    "# post_df = df.groupby(\"stock_id\").apply(lambda x:x[pre_len:])\n",
    "# target = pd.concat([pre_df, post_df], axis=0).sort_index()[\"rv\"]\n",
    "\n",
    "# # 替换预测部分\n",
    "# post_df.loc[:, [f\"rv{i}\" for i in range(N)]] = lstmewt_horizon_dict[horizon][1][:,0,:]\n",
    "# tmp_df = pd.concat([pre_df, post_df], axis=0).sort_index()\n",
    "# for col in cols:\n",
    "#     tmp_mfb = tmp_df[[f\"{col}{i}_mfb\" for i in range(N)]].values\n",
    "#     ewt_pred = tmp_df[[f\"{col}{i}\" for i in range(N)]].values\n",
    "#     # 重构\n",
    "#     reconstruction = iewt1d(ewt_pred.T, tmp_mfb.T)\n",
    "\n",
    "#     # 预测评估\n",
    "#     trues_test = target.values[test_idxs]\n",
    "#     preds_test = reconstruction[test_idxs]\n",
    "#     trues_test_lst.append(trues_test)\n",
    "#     preds_test_lst.append(preds_test)\n",
    "\n",
    "#     lstmewt_metrics[f\"horizon{horizon}\"] = metircs(trues_test, preds_test)\n",
    "# if horizon == target_horizon:\n",
    "#     lstmewt_target_horizon_data = [target, reconstruction, ewt_pred]\n",
    "\n",
    "# metrics_dict[\"lstmewt\"] = pd.DataFrame(lstmewt_metrics).T"
   ]
  },
  {
   "cell_type": "markdown",
   "id": "e4689711-6532-4136-8948-83fedd3b3bb1",
   "metadata": {},
   "source": [
    "## lstm 预测"
   ]
  },
  {
   "cell_type": "code",
   "execution_count": 11,
   "id": "8526f757-d5ab-47e0-943e-a70221a3ea2a",
   "metadata": {},
   "outputs": [],
   "source": [
    "seq_len, pred_len = 40, 1\n",
    "HORIZON = 10"
   ]
  },
  {
   "cell_type": "code",
   "execution_count": 12,
   "id": "fd195645-75a6-40e2-8918-6e5105b8db8e",
   "metadata": {},
   "outputs": [],
   "source": [
    "for model_name in [\"lstm\", \"lstmdecompose\"]:\n",
    "    lstm_horizon_dict = {}\n",
    "    for hn in range(1, HORIZON+1):\n",
    "        true, pred = load_obj(f\"./results/mydata/{model_name}_mydata_ftS_sl{seq_len}_ll0_pl{pred_len}_is1_os1_hn{hn}_bs32_lr0.001_{TARGET}_standar/true_pred.pkl\")\n",
    "        lstm_horizon_dict[hn] = [true, pred]\n",
    "        \n",
    "    lstm_metrics = {}\n",
    "    trues_test_lst, preds_test_lst = [], []\n",
    "    for horizon in range(1, HORIZON+1):\n",
    "        out_len = max(pred_len, horizon)\n",
    "        train_idxs, val_idxs, test_idxs = load_obj(f\"./save_file/idxs{out_len}.pkl\")\n",
    "        gap = horizon - 1\n",
    "        add_len = seq_len+gap\n",
    "        train_idxs += add_len\n",
    "        val_idxs += add_len\n",
    "        test_idxs += add_len\n",
    "        idxs = [i for i in train_idxs.tolist()+val_idxs.tolist()+test_idxs.tolist()]\n",
    "\n",
    "        df_copy = df.copy()\n",
    "        condition = pd.Series(range(len(df_copy))).isin(idxs).values\n",
    "        df_copy.loc[condition, [f\"rv_pred\"]] = lstm_horizon_dict[horizon][1].squeeze()\n",
    "        df_copy.loc[~condition, [f\"rv_pred\"]] = df_copy.loc[~condition, [f\"rv\"]].values\n",
    "\n",
    "        # 分量的预测效果\n",
    "        # metircs(df_copy.iloc[test_idxs][\"rv2\"].values, ewt_pred[:, -1][test_idxs])\n",
    "        true_test = df_copy.iloc[test_idxs][\"rv\"].values\n",
    "        pred_test = df_copy.iloc[test_idxs][\"rv_pred\"].values\n",
    "\n",
    "        lstm_metrics[f\"horizon{horizon}\"] = metircs(true_test, pred_test)\n",
    "        trues_test_lst.append(true_test)\n",
    "        preds_test_lst.append(pred_test)\n",
    "    trues_test_all, preds_test_all = np.concatenate(trues_test_lst),  np.concatenate(preds_test_lst)\n",
    "    lstm_metrics[\"avghorizon\"] = metircs(trues_test_all, preds_test_all)\n",
    "    metrics_dict[f\"{model_name}\"] = pd.DataFrame(lstm_metrics).T"
   ]
  },
  {
   "cell_type": "code",
   "execution_count": 13,
   "id": "7949a171-f282-4b19-a904-79a90792ce96",
   "metadata": {},
   "outputs": [
    {
     "data": {
      "text/plain": [
       "{'rmse': 0.7517967946894438,\n",
       " 'r2': 0.42972652609026496,\n",
       " 'mape': 0.07950508957698399}"
      ]
     },
     "execution_count": 13,
     "metadata": {},
     "output_type": "execute_result"
    }
   ],
   "source": [
    "metircs(true.squeeze()[:], pred.squeeze()[:])"
   ]
  },
  {
   "cell_type": "code",
   "execution_count": 14,
   "id": "4ff1d2b0-2f9d-49ba-b6d4-b148b951de58",
   "metadata": {},
   "outputs": [
    {
     "data": {
      "text/html": [
       "<div>\n",
       "<style scoped>\n",
       "    .dataframe tbody tr th:only-of-type {\n",
       "        vertical-align: middle;\n",
       "    }\n",
       "\n",
       "    .dataframe tbody tr th {\n",
       "        vertical-align: top;\n",
       "    }\n",
       "\n",
       "    .dataframe thead th {\n",
       "        text-align: right;\n",
       "    }\n",
       "</style>\n",
       "<table border=\"1\" class=\"dataframe\">\n",
       "  <thead>\n",
       "    <tr style=\"text-align: right;\">\n",
       "      <th></th>\n",
       "      <th>rmse</th>\n",
       "      <th>r2</th>\n",
       "      <th>mape</th>\n",
       "    </tr>\n",
       "  </thead>\n",
       "  <tbody>\n",
       "    <tr>\n",
       "      <th>horizon1</th>\n",
       "      <td>0.599330</td>\n",
       "      <td>0.612675</td>\n",
       "      <td>0.061931</td>\n",
       "    </tr>\n",
       "    <tr>\n",
       "      <th>horizon2</th>\n",
       "      <td>0.646348</td>\n",
       "      <td>0.549507</td>\n",
       "      <td>0.067055</td>\n",
       "    </tr>\n",
       "    <tr>\n",
       "      <th>horizon3</th>\n",
       "      <td>0.659449</td>\n",
       "      <td>0.530677</td>\n",
       "      <td>0.068625</td>\n",
       "    </tr>\n",
       "    <tr>\n",
       "      <th>horizon4</th>\n",
       "      <td>0.676465</td>\n",
       "      <td>0.506014</td>\n",
       "      <td>0.070554</td>\n",
       "    </tr>\n",
       "    <tr>\n",
       "      <th>horizon5</th>\n",
       "      <td>0.683098</td>\n",
       "      <td>0.495875</td>\n",
       "      <td>0.071344</td>\n",
       "    </tr>\n",
       "    <tr>\n",
       "      <th>horizon6</th>\n",
       "      <td>0.692860</td>\n",
       "      <td>0.481410</td>\n",
       "      <td>0.072462</td>\n",
       "    </tr>\n",
       "    <tr>\n",
       "      <th>horizon7</th>\n",
       "      <td>0.698443</td>\n",
       "      <td>0.472973</td>\n",
       "      <td>0.073042</td>\n",
       "    </tr>\n",
       "    <tr>\n",
       "      <th>horizon8</th>\n",
       "      <td>0.703974</td>\n",
       "      <td>0.464254</td>\n",
       "      <td>0.073851</td>\n",
       "    </tr>\n",
       "    <tr>\n",
       "      <th>horizon9</th>\n",
       "      <td>0.705814</td>\n",
       "      <td>0.461132</td>\n",
       "      <td>0.074087</td>\n",
       "    </tr>\n",
       "    <tr>\n",
       "      <th>horizon10</th>\n",
       "      <td>0.710060</td>\n",
       "      <td>0.454243</td>\n",
       "      <td>0.074587</td>\n",
       "    </tr>\n",
       "    <tr>\n",
       "      <th>avghorizon</th>\n",
       "      <td>0.678335</td>\n",
       "      <td>0.502981</td>\n",
       "      <td>0.070750</td>\n",
       "    </tr>\n",
       "  </tbody>\n",
       "</table>\n",
       "</div>"
      ],
      "text/plain": [
       "                rmse        r2      mape\n",
       "horizon1    0.599330  0.612675  0.061931\n",
       "horizon2    0.646348  0.549507  0.067055\n",
       "horizon3    0.659449  0.530677  0.068625\n",
       "horizon4    0.676465  0.506014  0.070554\n",
       "horizon5    0.683098  0.495875  0.071344\n",
       "horizon6    0.692860  0.481410  0.072462\n",
       "horizon7    0.698443  0.472973  0.073042\n",
       "horizon8    0.703974  0.464254  0.073851\n",
       "horizon9    0.705814  0.461132  0.074087\n",
       "horizon10   0.710060  0.454243  0.074587\n",
       "avghorizon  0.678335  0.502981  0.070750"
      ]
     },
     "execution_count": 14,
     "metadata": {},
     "output_type": "execute_result"
    },
    {
     "data": {
      "text/html": [
       "<div>\n",
       "<style scoped>\n",
       "    .dataframe tbody tr th:only-of-type {\n",
       "        vertical-align: middle;\n",
       "    }\n",
       "\n",
       "    .dataframe tbody tr th {\n",
       "        vertical-align: top;\n",
       "    }\n",
       "\n",
       "    .dataframe thead th {\n",
       "        text-align: right;\n",
       "    }\n",
       "</style>\n",
       "<table border=\"1\" class=\"dataframe\">\n",
       "  <thead>\n",
       "    <tr style=\"text-align: right;\">\n",
       "      <th></th>\n",
       "      <th>rmse</th>\n",
       "      <th>r2</th>\n",
       "      <th>mape</th>\n",
       "    </tr>\n",
       "  </thead>\n",
       "  <tbody>\n",
       "    <tr>\n",
       "      <th>horizon1</th>\n",
       "      <td>0.615033</td>\n",
       "      <td>0.592112</td>\n",
       "      <td>0.063480</td>\n",
       "    </tr>\n",
       "    <tr>\n",
       "      <th>horizon2</th>\n",
       "      <td>0.653825</td>\n",
       "      <td>0.539023</td>\n",
       "      <td>0.067725</td>\n",
       "    </tr>\n",
       "    <tr>\n",
       "      <th>horizon3</th>\n",
       "      <td>0.679823</td>\n",
       "      <td>0.501229</td>\n",
       "      <td>0.070843</td>\n",
       "    </tr>\n",
       "    <tr>\n",
       "      <th>horizon4</th>\n",
       "      <td>0.693449</td>\n",
       "      <td>0.480899</td>\n",
       "      <td>0.072166</td>\n",
       "    </tr>\n",
       "    <tr>\n",
       "      <th>horizon5</th>\n",
       "      <td>0.712622</td>\n",
       "      <td>0.451357</td>\n",
       "      <td>0.074671</td>\n",
       "    </tr>\n",
       "    <tr>\n",
       "      <th>horizon6</th>\n",
       "      <td>0.723349</td>\n",
       "      <td>0.434766</td>\n",
       "      <td>0.075739</td>\n",
       "    </tr>\n",
       "    <tr>\n",
       "      <th>horizon7</th>\n",
       "      <td>0.731318</td>\n",
       "      <td>0.422192</td>\n",
       "      <td>0.076656</td>\n",
       "    </tr>\n",
       "    <tr>\n",
       "      <th>horizon8</th>\n",
       "      <td>0.739886</td>\n",
       "      <td>0.408199</td>\n",
       "      <td>0.077638</td>\n",
       "    </tr>\n",
       "    <tr>\n",
       "      <th>horizon9</th>\n",
       "      <td>0.745679</td>\n",
       "      <td>0.398541</td>\n",
       "      <td>0.078608</td>\n",
       "    </tr>\n",
       "    <tr>\n",
       "      <th>horizon10</th>\n",
       "      <td>0.754849</td>\n",
       "      <td>0.383221</td>\n",
       "      <td>0.079325</td>\n",
       "    </tr>\n",
       "    <tr>\n",
       "      <th>avghorizon</th>\n",
       "      <td>0.706203</td>\n",
       "      <td>0.461303</td>\n",
       "      <td>0.073679</td>\n",
       "    </tr>\n",
       "  </tbody>\n",
       "</table>\n",
       "</div>"
      ],
      "text/plain": [
       "                rmse        r2      mape\n",
       "horizon1    0.615033  0.592112  0.063480\n",
       "horizon2    0.653825  0.539023  0.067725\n",
       "horizon3    0.679823  0.501229  0.070843\n",
       "horizon4    0.693449  0.480899  0.072166\n",
       "horizon5    0.712622  0.451357  0.074671\n",
       "horizon6    0.723349  0.434766  0.075739\n",
       "horizon7    0.731318  0.422192  0.076656\n",
       "horizon8    0.739886  0.408199  0.077638\n",
       "horizon9    0.745679  0.398541  0.078608\n",
       "horizon10   0.754849  0.383221  0.079325\n",
       "avghorizon  0.706203  0.461303  0.073679"
      ]
     },
     "execution_count": 14,
     "metadata": {},
     "output_type": "execute_result"
    },
    {
     "data": {
      "text/html": [
       "<div>\n",
       "<style scoped>\n",
       "    .dataframe tbody tr th:only-of-type {\n",
       "        vertical-align: middle;\n",
       "    }\n",
       "\n",
       "    .dataframe tbody tr th {\n",
       "        vertical-align: top;\n",
       "    }\n",
       "\n",
       "    .dataframe thead th {\n",
       "        text-align: right;\n",
       "    }\n",
       "</style>\n",
       "<table border=\"1\" class=\"dataframe\">\n",
       "  <thead>\n",
       "    <tr style=\"text-align: right;\">\n",
       "      <th></th>\n",
       "      <th>rmse</th>\n",
       "      <th>r2</th>\n",
       "      <th>mape</th>\n",
       "    </tr>\n",
       "  </thead>\n",
       "  <tbody>\n",
       "    <tr>\n",
       "      <th>horizon1</th>\n",
       "      <td>0.613522</td>\n",
       "      <td>0.594114</td>\n",
       "      <td>0.063347</td>\n",
       "    </tr>\n",
       "    <tr>\n",
       "      <th>horizon2</th>\n",
       "      <td>0.652271</td>\n",
       "      <td>0.541212</td>\n",
       "      <td>0.067487</td>\n",
       "    </tr>\n",
       "    <tr>\n",
       "      <th>horizon3</th>\n",
       "      <td>0.676624</td>\n",
       "      <td>0.505912</td>\n",
       "      <td>0.070441</td>\n",
       "    </tr>\n",
       "    <tr>\n",
       "      <th>horizon4</th>\n",
       "      <td>0.691524</td>\n",
       "      <td>0.483776</td>\n",
       "      <td>0.072129</td>\n",
       "    </tr>\n",
       "    <tr>\n",
       "      <th>horizon5</th>\n",
       "      <td>0.708590</td>\n",
       "      <td>0.457547</td>\n",
       "      <td>0.074106</td>\n",
       "    </tr>\n",
       "    <tr>\n",
       "      <th>horizon6</th>\n",
       "      <td>0.722178</td>\n",
       "      <td>0.436595</td>\n",
       "      <td>0.075661</td>\n",
       "    </tr>\n",
       "    <tr>\n",
       "      <th>horizon7</th>\n",
       "      <td>0.729763</td>\n",
       "      <td>0.424647</td>\n",
       "      <td>0.076477</td>\n",
       "    </tr>\n",
       "    <tr>\n",
       "      <th>horizon8</th>\n",
       "      <td>0.740219</td>\n",
       "      <td>0.407666</td>\n",
       "      <td>0.077953</td>\n",
       "    </tr>\n",
       "    <tr>\n",
       "      <th>horizon9</th>\n",
       "      <td>0.747638</td>\n",
       "      <td>0.395377</td>\n",
       "      <td>0.078601</td>\n",
       "    </tr>\n",
       "    <tr>\n",
       "      <th>horizon10</th>\n",
       "      <td>0.755667</td>\n",
       "      <td>0.381883</td>\n",
       "      <td>0.079465</td>\n",
       "    </tr>\n",
       "    <tr>\n",
       "      <th>avghorizon</th>\n",
       "      <td>0.705073</td>\n",
       "      <td>0.463026</td>\n",
       "      <td>0.073561</td>\n",
       "    </tr>\n",
       "  </tbody>\n",
       "</table>\n",
       "</div>"
      ],
      "text/plain": [
       "                rmse        r2      mape\n",
       "horizon1    0.613522  0.594114  0.063347\n",
       "horizon2    0.652271  0.541212  0.067487\n",
       "horizon3    0.676624  0.505912  0.070441\n",
       "horizon4    0.691524  0.483776  0.072129\n",
       "horizon5    0.708590  0.457547  0.074106\n",
       "horizon6    0.722178  0.436595  0.075661\n",
       "horizon7    0.729763  0.424647  0.076477\n",
       "horizon8    0.740219  0.407666  0.077953\n",
       "horizon9    0.747638  0.395377  0.078601\n",
       "horizon10   0.755667  0.381883  0.079465\n",
       "avghorizon  0.705073  0.463026  0.073561"
      ]
     },
     "execution_count": 14,
     "metadata": {},
     "output_type": "execute_result"
    }
   ],
   "source": [
    "metrics_dict[\"lstmewt\"]\n",
    "metrics_dict[\"lstm\"]\n",
    "metrics_dict[\"lstmdecompose\"]"
   ]
  },
  {
   "cell_type": "markdown",
   "id": "b944715c-d758-40ca-8ed8-c9f030a36c2f",
   "metadata": {},
   "source": [
    "## 模型评估"
   ]
  },
  {
   "cell_type": "code",
   "execution_count": 15,
   "id": "86c95064-e682-4b28-a687-c06da9e85b77",
   "metadata": {},
   "outputs": [],
   "source": [
    "def evaluation_show(taget_indictor, target_horizon, sort=True):\n",
    "    hist_dict = {}\n",
    "    for key, value in metrics_dict.items():\n",
    "        hist_dict[key] = value[taget_indictor][target_horizon]\n",
    "    if sort:\n",
    "        hist_dict = dict(sorted(hist_dict.items(), key=lambda x:x[1]))\n",
    "    fig = plt.figure(figsize=(10, 6))\n",
    "    x, width = 0, 0.25\n",
    "    xtick_lst = []\n",
    "    xlabel_lst = []\n",
    "    for key, value in hist_dict.items():\n",
    "        xtick_lst.append(x)\n",
    "        xlabel_lst.append(key)\n",
    "        plt.bar(x, value, width=width, label=key)\n",
    "        x += width\n",
    "    plt.xticks(xtick_lst, xlabel_lst)\n",
    "    plt.title(f\"{taget_indictor}_{target_horizon}\")\n",
    "    plt.legend();\n",
    "    return fig, hist_dict"
   ]
  },
  {
   "cell_type": "code",
   "execution_count": 16,
   "id": "1cfd6de6-a320-451d-9634-1e4f875e807c",
   "metadata": {},
   "outputs": [
    {
     "data": {
      "image/png": "[encoded data removed]",
      "text/plain": [
       "<Figure size 720x432 with 1 Axes>"
      ]
     },
     "metadata": {
      "needs_background": "light"
     },
     "output_type": "display_data"
    }
   ],
   "source": [
    "target_horizon = \"avghorizon\"\n",
    "taget_indictor = 'rmse'\n",
    "fig, hist_dict = evaluation_show(taget_indictor, target_horizon)"
   ]
  },
  {
   "cell_type": "code",
   "execution_count": 17,
   "id": "bf7dbc97-4b7e-4e9c-9f22-18a3a3be28c0",
   "metadata": {},
   "outputs": [
    {
     "data": {
      "image/png": "[encoded data removed]",
      "text/plain": [
       "<Figure size 720x432 with 1 Axes>"
      ]
     },
     "metadata": {
      "needs_background": "light"
     },
     "output_type": "display_data"
    }
   ],
   "source": [
    "taget_indictor = 'r2'\n",
    "fig, hist_dict = evaluation_show(taget_indictor, target_horizon)"
   ]
  },
  {
   "cell_type": "code",
   "execution_count": 18,
   "id": "a62d77c8-83ef-46f0-8969-eacf32353e86",
   "metadata": {},
   "outputs": [
    {
     "data": {
      "image/png": "[encoded data removed]",
      "text/plain": [
       "<Figure size 720x432 with 1 Axes>"
      ]
     },
     "metadata": {
      "needs_background": "light"
     },
     "output_type": "display_data"
    }
   ],
   "source": [
    "taget_indictor = 'mape'\n",
    "fig, hist_dict = evaluation_show(taget_indictor, target_horizon)"
   ]
  },
  {
   "cell_type": "markdown",
   "id": "9c7befd4-8427-475a-a2cf-15a9413265fe",
   "metadata": {},
   "source": [
    "### save_metrics"
   ]
  },
  {
   "cell_type": "code",
   "execution_count": 19,
   "id": "c52952f7-639a-45f6-8fe3-21f183f0268f",
   "metadata": {},
   "outputs": [],
   "source": [
    "save_metrics = {}\n",
    "for key, value in metrics_dict.items():\n",
    "    save_metrics[key] = metrics_dict[key].loc[target_horizon, :].to_dict()"
   ]
  },
  {
   "cell_type": "code",
   "execution_count": 21,
   "id": "cc723871-7599-4dfc-9874-8fe1c801f17f",
   "metadata": {},
   "outputs": [
    {
     "data": {
      "text/html": [
       "<div>\n",
       "<style scoped>\n",
       "    .dataframe tbody tr th:only-of-type {\n",
       "        vertical-align: middle;\n",
       "    }\n",
       "\n",
       "    .dataframe tbody tr th {\n",
       "        vertical-align: top;\n",
       "    }\n",
       "\n",
       "    .dataframe thead th {\n",
       "        text-align: right;\n",
       "    }\n",
       "</style>\n",
       "<table border=\"1\" class=\"dataframe\">\n",
       "  <thead>\n",
       "    <tr style=\"text-align: right;\">\n",
       "      <th></th>\n",
       "      <th>lstmewt</th>\n",
       "      <th>lstm</th>\n",
       "      <th>lstmdecompose</th>\n",
       "    </tr>\n",
       "  </thead>\n",
       "  <tbody>\n",
       "    <tr>\n",
       "      <th>rmse</th>\n",
       "      <td>0.678335</td>\n",
       "      <td>0.706203</td>\n",
       "      <td>0.705073</td>\n",
       "    </tr>\n",
       "    <tr>\n",
       "      <th>r2</th>\n",
       "      <td>0.502981</td>\n",
       "      <td>0.461303</td>\n",
       "      <td>0.463026</td>\n",
       "    </tr>\n",
       "    <tr>\n",
       "      <th>mape</th>\n",
       "      <td>0.070750</td>\n",
       "      <td>0.073679</td>\n",
       "      <td>0.073561</td>\n",
       "    </tr>\n",
       "  </tbody>\n",
       "</table>\n",
       "</div>"
      ],
      "text/plain": [
       "       lstmewt      lstm  lstmdecompose\n",
       "rmse  0.678335  0.706203       0.705073\n",
       "r2    0.502981  0.461303       0.463026\n",
       "mape  0.070750  0.073679       0.073561"
      ]
     },
     "execution_count": 21,
     "metadata": {},
     "output_type": "execute_result"
    }
   ],
   "source": [
    "pd.DataFrame(save_metrics)"
   ]
  },
  {
   "cell_type": "code",
   "execution_count": 47,
   "id": "69fc6e20-0241-452a-830a-3e0a8fb83018",
   "metadata": {},
   "outputs": [],
   "source": [
    "a = metrics_dict[\"lstmewt\"].copy()\n",
    "a.columns = a.columns+\"lstmewt\"\n",
    "b = metrics_dict[\"lstm\"].copy()\n",
    "b.columns= b.columns+\"lstm\""
   ]
  },
  {
   "cell_type": "code",
   "execution_count": 48,
   "id": "2d2bdf28-181f-4d5e-be49-5fe9f1178f24",
   "metadata": {},
   "outputs": [
    {
     "data": {
      "text/html": [
       "<div>\n",
       "<style scoped>\n",
       "    .dataframe tbody tr th:only-of-type {\n",
       "        vertical-align: middle;\n",
       "    }\n",
       "\n",
       "    .dataframe tbody tr th {\n",
       "        vertical-align: top;\n",
       "    }\n",
       "\n",
       "    .dataframe thead th {\n",
       "        text-align: right;\n",
       "    }\n",
       "</style>\n",
       "<table border=\"1\" class=\"dataframe\">\n",
       "  <thead>\n",
       "    <tr style=\"text-align: right;\">\n",
       "      <th></th>\n",
       "      <th>mapelstm</th>\n",
       "      <th>mapelstmewt</th>\n",
       "      <th>r2lstm</th>\n",
       "      <th>r2lstmewt</th>\n",
       "      <th>rmselstm</th>\n",
       "      <th>rmselstmewt</th>\n",
       "    </tr>\n",
       "  </thead>\n",
       "  <tbody>\n",
       "    <tr>\n",
       "      <th>horizon1</th>\n",
       "      <td>0.063480</td>\n",
       "      <td>0.061931</td>\n",
       "      <td>0.592112</td>\n",
       "      <td>0.612675</td>\n",
       "      <td>0.615033</td>\n",
       "      <td>0.599330</td>\n",
       "    </tr>\n",
       "    <tr>\n",
       "      <th>horizon2</th>\n",
       "      <td>0.067725</td>\n",
       "      <td>0.067055</td>\n",
       "      <td>0.539023</td>\n",
       "      <td>0.549507</td>\n",
       "      <td>0.653825</td>\n",
       "      <td>0.646348</td>\n",
       "    </tr>\n",
       "    <tr>\n",
       "      <th>horizon3</th>\n",
       "      <td>0.070843</td>\n",
       "      <td>0.068625</td>\n",
       "      <td>0.501229</td>\n",
       "      <td>0.530677</td>\n",
       "      <td>0.679823</td>\n",
       "      <td>0.659449</td>\n",
       "    </tr>\n",
       "    <tr>\n",
       "      <th>horizon4</th>\n",
       "      <td>0.072166</td>\n",
       "      <td>0.070554</td>\n",
       "      <td>0.480899</td>\n",
       "      <td>0.506014</td>\n",
       "      <td>0.693449</td>\n",
       "      <td>0.676465</td>\n",
       "    </tr>\n",
       "    <tr>\n",
       "      <th>horizon5</th>\n",
       "      <td>0.074671</td>\n",
       "      <td>0.071344</td>\n",
       "      <td>0.451357</td>\n",
       "      <td>0.495875</td>\n",
       "      <td>0.712622</td>\n",
       "      <td>0.683098</td>\n",
       "    </tr>\n",
       "    <tr>\n",
       "      <th>horizon6</th>\n",
       "      <td>0.075739</td>\n",
       "      <td>0.072462</td>\n",
       "      <td>0.434766</td>\n",
       "      <td>0.481410</td>\n",
       "      <td>0.723349</td>\n",
       "      <td>0.692860</td>\n",
       "    </tr>\n",
       "    <tr>\n",
       "      <th>horizon7</th>\n",
       "      <td>0.076656</td>\n",
       "      <td>0.073042</td>\n",
       "      <td>0.422192</td>\n",
       "      <td>0.472973</td>\n",
       "      <td>0.731318</td>\n",
       "      <td>0.698443</td>\n",
       "    </tr>\n",
       "    <tr>\n",
       "      <th>horizon8</th>\n",
       "      <td>0.077638</td>\n",
       "      <td>0.073851</td>\n",
       "      <td>0.408199</td>\n",
       "      <td>0.464254</td>\n",
       "      <td>0.739886</td>\n",
       "      <td>0.703974</td>\n",
       "    </tr>\n",
       "    <tr>\n",
       "      <th>horizon9</th>\n",
       "      <td>0.078608</td>\n",
       "      <td>0.074087</td>\n",
       "      <td>0.398541</td>\n",
       "      <td>0.461132</td>\n",
       "      <td>0.745679</td>\n",
       "      <td>0.705814</td>\n",
       "    </tr>\n",
       "    <tr>\n",
       "      <th>horizon10</th>\n",
       "      <td>0.079325</td>\n",
       "      <td>0.074587</td>\n",
       "      <td>0.383221</td>\n",
       "      <td>0.454243</td>\n",
       "      <td>0.754849</td>\n",
       "      <td>0.710060</td>\n",
       "    </tr>\n",
       "    <tr>\n",
       "      <th>allhorizon</th>\n",
       "      <td>0.073679</td>\n",
       "      <td>0.070750</td>\n",
       "      <td>0.461303</td>\n",
       "      <td>0.502981</td>\n",
       "      <td>0.706203</td>\n",
       "      <td>0.678335</td>\n",
       "    </tr>\n",
       "  </tbody>\n",
       "</table>\n",
       "</div>"
      ],
      "text/plain": [
       "            mapelstm  mapelstmewt    r2lstm  r2lstmewt  rmselstm  rmselstmewt\n",
       "horizon1    0.063480     0.061931  0.592112   0.612675  0.615033     0.599330\n",
       "horizon2    0.067725     0.067055  0.539023   0.549507  0.653825     0.646348\n",
       "horizon3    0.070843     0.068625  0.501229   0.530677  0.679823     0.659449\n",
       "horizon4    0.072166     0.070554  0.480899   0.506014  0.693449     0.676465\n",
       "horizon5    0.074671     0.071344  0.451357   0.495875  0.712622     0.683098\n",
       "horizon6    0.075739     0.072462  0.434766   0.481410  0.723349     0.692860\n",
       "horizon7    0.076656     0.073042  0.422192   0.472973  0.731318     0.698443\n",
       "horizon8    0.077638     0.073851  0.408199   0.464254  0.739886     0.703974\n",
       "horizon9    0.078608     0.074087  0.398541   0.461132  0.745679     0.705814\n",
       "horizon10   0.079325     0.074587  0.383221   0.454243  0.754849     0.710060\n",
       "allhorizon  0.073679     0.070750  0.461303   0.502981  0.706203     0.678335"
      ]
     },
     "execution_count": 48,
     "metadata": {},
     "output_type": "execute_result"
    }
   ],
   "source": [
    "pd.concat([a, b], axis=1).sort_index(axis=1)"
   ]
  },
  {
   "cell_type": "markdown",
   "id": "3d114793-3665-468a-9954-368be03fe872",
   "metadata": {},
   "source": [
    "### save_metrics"
   ]
  },
  {
   "cell_type": "code",
   "execution_count": 32,
   "id": "75b17c47-5762-46af-9b63-b5cab1f54721",
   "metadata": {},
   "outputs": [],
   "source": [
    "save_metrics = {}\n",
    "for key, value in metrics_dict.items():\n",
    "    save_metrics[key] = metrics_dict[key].loc[target_horizon, :].to_dict()"
   ]
  },
  {
   "cell_type": "code",
   "execution_count": 33,
   "id": "96ffbc3c-4694-45e5-8b90-76727c4a7312",
   "metadata": {},
   "outputs": [],
   "source": [
    "save_metrics_df = pd.DataFrame(save_metrics).T"
   ]
  },
  {
   "cell_type": "code",
   "execution_count": 34,
   "id": "d53a06c1-2b86-43d8-91c5-1ccef85b4a8b",
   "metadata": {},
   "outputs": [],
   "source": [
    "save_metrics_df.columns = [[\"RV\"]*3, [\"rmse\", \"r2\", \"mape\"]]"
   ]
  },
  {
   "cell_type": "code",
   "execution_count": 35,
   "id": "476ed0c1-70f1-4ab0-a745-994b3feb0482",
   "metadata": {},
   "outputs": [
    {
     "data": {
      "text/html": [
       "<div>\n",
       "<style scoped>\n",
       "    .dataframe tbody tr th:only-of-type {\n",
       "        vertical-align: middle;\n",
       "    }\n",
       "\n",
       "    .dataframe tbody tr th {\n",
       "        vertical-align: top;\n",
       "    }\n",
       "\n",
       "    .dataframe thead tr th {\n",
       "        text-align: left;\n",
       "    }\n",
       "</style>\n",
       "<table border=\"1\" class=\"dataframe\">\n",
       "  <thead>\n",
       "    <tr>\n",
       "      <th></th>\n",
       "      <th colspan=\"3\" halign=\"left\">RV</th>\n",
       "    </tr>\n",
       "    <tr>\n",
       "      <th></th>\n",
       "      <th>rmse</th>\n",
       "      <th>r2</th>\n",
       "      <th>mape</th>\n",
       "    </tr>\n",
       "  </thead>\n",
       "  <tbody>\n",
       "    <tr>\n",
       "      <th>lstmewt</th>\n",
       "      <td>0.678335</td>\n",
       "      <td>0.502981</td>\n",
       "      <td>0.070750</td>\n",
       "    </tr>\n",
       "    <tr>\n",
       "      <th>lstm</th>\n",
       "      <td>0.706203</td>\n",
       "      <td>0.461303</td>\n",
       "      <td>0.073679</td>\n",
       "    </tr>\n",
       "  </tbody>\n",
       "</table>\n",
       "</div>"
      ],
      "text/plain": [
       "               RV                    \n",
       "             rmse        r2      mape\n",
       "lstmewt  0.678335  0.502981  0.070750\n",
       "lstm     0.706203  0.461303  0.073679"
      ]
     },
     "execution_count": 35,
     "metadata": {},
     "output_type": "execute_result"
    }
   ],
   "source": [
    "save_metrics_df"
   ]
  },
  {
   "cell_type": "markdown",
   "id": "eee127f4-7704-4a2f-8842-1fc598249812",
   "metadata": {},
   "source": [
    "## horizon"
   ]
  },
  {
   "cell_type": "code",
   "execution_count": 22,
   "id": "8d0cd0d3-5256-4223-85c0-affcb35179db",
   "metadata": {},
   "outputs": [],
   "source": [
    "save_metrics = {}\n",
    "target_horizon_lst = [\"horizon1\", \"horizon3\", \"horizon6\", \"horizon10\", \"avghorizon\"]\n",
    "for key, value in metrics_dict.items():\n",
    "    save_metrics[key] = metrics_dict[key].loc[target_horizon_lst, :][\"rmse\"].to_dict()"
   ]
  },
  {
   "cell_type": "code",
   "execution_count": 23,
   "id": "fae5af13-6eaa-4c8b-8e92-aa8365ca3928",
   "metadata": {},
   "outputs": [],
   "source": [
    "save_metrics_df = pd.DataFrame(save_metrics)"
   ]
  },
  {
   "cell_type": "code",
   "execution_count": 24,
   "id": "13e12f54-3f4b-4251-b25f-18cd0e941618",
   "metadata": {},
   "outputs": [
    {
     "data": {
      "text/html": [
       "<div>\n",
       "<style scoped>\n",
       "    .dataframe tbody tr th:only-of-type {\n",
       "        vertical-align: middle;\n",
       "    }\n",
       "\n",
       "    .dataframe tbody tr th {\n",
       "        vertical-align: top;\n",
       "    }\n",
       "\n",
       "    .dataframe thead th {\n",
       "        text-align: right;\n",
       "    }\n",
       "</style>\n",
       "<table border=\"1\" class=\"dataframe\">\n",
       "  <thead>\n",
       "    <tr style=\"text-align: right;\">\n",
       "      <th></th>\n",
       "      <th>lstmewt</th>\n",
       "      <th>lstm</th>\n",
       "      <th>lstmdecompose</th>\n",
       "    </tr>\n",
       "  </thead>\n",
       "  <tbody>\n",
       "    <tr>\n",
       "      <th>horizon1</th>\n",
       "      <td>0.599330</td>\n",
       "      <td>0.615033</td>\n",
       "      <td>0.613522</td>\n",
       "    </tr>\n",
       "    <tr>\n",
       "      <th>horizon3</th>\n",
       "      <td>0.659449</td>\n",
       "      <td>0.679823</td>\n",
       "      <td>0.676624</td>\n",
       "    </tr>\n",
       "    <tr>\n",
       "      <th>horizon6</th>\n",
       "      <td>0.692860</td>\n",
       "      <td>0.723349</td>\n",
       "      <td>0.722178</td>\n",
       "    </tr>\n",
       "    <tr>\n",
       "      <th>horizon10</th>\n",
       "      <td>0.710060</td>\n",
       "      <td>0.754849</td>\n",
       "      <td>0.755667</td>\n",
       "    </tr>\n",
       "    <tr>\n",
       "      <th>avghorizon</th>\n",
       "      <td>0.678335</td>\n",
       "      <td>0.706203</td>\n",
       "      <td>0.705073</td>\n",
       "    </tr>\n",
       "  </tbody>\n",
       "</table>\n",
       "</div>"
      ],
      "text/plain": [
       "             lstmewt      lstm  lstmdecompose\n",
       "horizon1    0.599330  0.615033       0.613522\n",
       "horizon3    0.659449  0.679823       0.676624\n",
       "horizon6    0.692860  0.723349       0.722178\n",
       "horizon10   0.710060  0.754849       0.755667\n",
       "avghorizon  0.678335  0.706203       0.705073"
      ]
     },
     "execution_count": 24,
     "metadata": {},
     "output_type": "execute_result"
    }
   ],
   "source": [
    "save_metrics_df"
   ]
  },
  {
   "cell_type": "code",
   "execution_count": 25,
   "id": "bf77a96c-ddc4-4e67-82a3-42a7d11449b2",
   "metadata": {},
   "outputs": [],
   "source": [
    "save_metrics_df.to_csv(f\"./save_file/{TARGET}_horizons.csv\")"
   ]
  },
  {
   "cell_type": "code",
   "execution_count": null,
   "id": "2807ac88-2c5a-47e0-b278-f2cabf826466",
   "metadata": {},
   "outputs": [],
   "source": []
  },
  {
   "cell_type": "code",
   "execution_count": null,
   "id": "7c467043-5704-4b31-8089-c9e267438f72",
   "metadata": {},
   "outputs": [],
   "source": []
  },
  {
   "cell_type": "code",
   "execution_count": null,
   "id": "001ff0ca-f6c1-4e43-9157-d58b09a4137f",
   "metadata": {},
   "outputs": [],
   "source": []
  }
 ],
 "metadata": {
  "kernelspec": {
   "display_name": "Python 3 (ipykernel)",
   "language": "python",
   "name": "python3"
  },
  "language_info": {
   "codemirror_mode": {
    "name": "ipython",
    "version": 3
   },
   "file_extension": ".py",
   "mimetype": "text/x-python",
   "name": "python",
   "nbconvert_exporter": "python",
   "pygments_lexer": "ipython3",
   "version": "3.7.6"
  },
  "toc-autonumbering": true
 },
 "nbformat": 4,
 "nbformat_minor": 5
}
